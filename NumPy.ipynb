{
 "cells": [
  {
   "cell_type": "markdown",
   "id": "b548ecc5",
   "metadata": {},
   "source": [
    "# NUMPY: Package for multidimensional array"
   ]
  },
  {
   "cell_type": "code",
   "execution_count": 1,
   "id": "ef18d5a3",
   "metadata": {},
   "outputs": [],
   "source": [
    "import numpy as np"
   ]
  },
  {
   "cell_type": "code",
   "execution_count": 2,
   "id": "40e777c0",
   "metadata": {},
   "outputs": [],
   "source": [
    "arr=np.array([1,2,3,4,5,6])"
   ]
  },
  {
   "cell_type": "code",
   "execution_count": 3,
   "id": "773dd47f",
   "metadata": {},
   "outputs": [
    {
     "data": {
      "text/plain": [
       "array([1, 2, 3, 4, 5, 6])"
      ]
     },
     "execution_count": 3,
     "metadata": {},
     "output_type": "execute_result"
    }
   ],
   "source": [
    "arr"
   ]
  },
  {
   "cell_type": "code",
   "execution_count": 5,
   "id": "efd41c79",
   "metadata": {},
   "outputs": [],
   "source": [
    "nested_list=[[1,2,3],[4,7,8]]\n",
    "sample_matrix=np.array(nested_list)"
   ]
  },
  {
   "cell_type": "code",
   "execution_count": 6,
   "id": "34c2d8d3",
   "metadata": {},
   "outputs": [
    {
     "data": {
      "text/plain": [
       "array([[1, 2, 3],\n",
       "       [4, 7, 8]])"
      ]
     },
     "execution_count": 6,
     "metadata": {},
     "output_type": "execute_result"
    }
   ],
   "source": [
    "sample_matrix"
   ]
  },
  {
   "cell_type": "code",
   "execution_count": 15,
   "id": "879cc36f",
   "metadata": {},
   "outputs": [
    {
     "data": {
      "text/plain": [
       "array([1, 2, 3, 4, 5, 6, 7, 8, 9])"
      ]
     },
     "execution_count": 15,
     "metadata": {},
     "output_type": "execute_result"
    }
   ],
   "source": [
    "np.arange(1,10) #arange"
   ]
  },
  {
   "cell_type": "code",
   "execution_count": 16,
   "id": "36d3391c",
   "metadata": {},
   "outputs": [
    {
     "data": {
      "text/plain": [
       "array([ 1,  6, 11, 16, 21, 26, 31, 36, 41])"
      ]
     },
     "execution_count": 16,
     "metadata": {},
     "output_type": "execute_result"
    }
   ],
   "source": [
    "np.arange(1,46,5)"
   ]
  },
  {
   "cell_type": "code",
   "execution_count": 17,
   "id": "e2c5c705",
   "metadata": {},
   "outputs": [
    {
     "data": {
      "text/plain": [
       "array([ 0,  1,  2,  3,  4,  5,  6,  7,  8,  9, 10, 11, 12, 13, 14])"
      ]
     },
     "execution_count": 17,
     "metadata": {},
     "output_type": "execute_result"
    }
   ],
   "source": [
    "np.arange(15)"
   ]
  },
  {
   "cell_type": "code",
   "execution_count": 18,
   "id": "fb43de77",
   "metadata": {},
   "outputs": [
    {
     "data": {
      "text/plain": [
       "array([0., 0., 0., 0., 0.])"
      ]
     },
     "execution_count": 18,
     "metadata": {},
     "output_type": "execute_result"
    }
   ],
   "source": [
    "np.zeros(5)    #by default data type is float"
   ]
  },
  {
   "cell_type": "code",
   "execution_count": 19,
   "id": "0f9b419a",
   "metadata": {},
   "outputs": [
    {
     "data": {
      "text/plain": [
       "array([0, 0, 0, 0, 0])"
      ]
     },
     "execution_count": 19,
     "metadata": {},
     "output_type": "execute_result"
    }
   ],
   "source": [
    "np.zeros(5,int) #specifying datatype"
   ]
  },
  {
   "cell_type": "code",
   "execution_count": 20,
   "id": "8da85ad3",
   "metadata": {},
   "outputs": [],
   "source": [
    "#shift+tab ->help or describe the syntax"
   ]
  },
  {
   "cell_type": "code",
   "execution_count": 22,
   "id": "1c9bf1cb",
   "metadata": {},
   "outputs": [
    {
     "data": {
      "text/plain": [
       "array([0, 0, 0, 0, 0, 0, 0, 0, 0, 0])"
      ]
     },
     "execution_count": 22,
     "metadata": {},
     "output_type": "execute_result"
    }
   ],
   "source": [
    "np.zeros(10,dtype=int)"
   ]
  },
  {
   "cell_type": "code",
   "execution_count": 23,
   "id": "b4dd75cf",
   "metadata": {},
   "outputs": [
    {
     "data": {
      "text/plain": [
       "array([1., 1., 1., 1., 1., 1., 1., 1., 1., 1.])"
      ]
     },
     "execution_count": 23,
     "metadata": {},
     "output_type": "execute_result"
    }
   ],
   "source": [
    "np.ones(10)"
   ]
  },
  {
   "cell_type": "code",
   "execution_count": 30,
   "id": "187e591f",
   "metadata": {},
   "outputs": [
    {
     "data": {
      "text/plain": [
       "array([[1, 1, 1, 1, 1],\n",
       "       [1, 1, 1, 1, 1]])"
      ]
     },
     "execution_count": 30,
     "metadata": {},
     "output_type": "execute_result"
    }
   ],
   "source": [
    "np.ones((2,5),int)"
   ]
  },
  {
   "cell_type": "code",
   "execution_count": 32,
   "id": "40d57349",
   "metadata": {},
   "outputs": [
    {
     "data": {
      "text/plain": [
       "array([[0, 0, 0],\n",
       "       [0, 0, 0],\n",
       "       [0, 0, 0]])"
      ]
     },
     "execution_count": 32,
     "metadata": {},
     "output_type": "execute_result"
    }
   ],
   "source": [
    "np.zeros((3,3),int)"
   ]
  },
  {
   "cell_type": "code",
   "execution_count": 34,
   "id": "c6648147",
   "metadata": {},
   "outputs": [
    {
     "data": {
      "text/plain": [
       "array([0.  , 0.25, 0.5 , 0.75, 1.  ])"
      ]
     },
     "execution_count": 34,
     "metadata": {},
     "output_type": "execute_result"
    }
   ],
   "source": [
    "np.linspace(0,1,5)"
   ]
  },
  {
   "cell_type": "code",
   "execution_count": 37,
   "id": "11ec960c",
   "metadata": {},
   "outputs": [
    {
     "data": {
      "text/plain": [
       "array([ 0.,  5., 10., 15., 20.])"
      ]
     },
     "execution_count": 37,
     "metadata": {},
     "output_type": "execute_result"
    }
   ],
   "source": [
    "np.linspace(0,20,5)"
   ]
  },
  {
   "cell_type": "code",
   "execution_count": 38,
   "id": "f3dc12b8",
   "metadata": {},
   "outputs": [
    {
     "data": {
      "text/plain": [
       "array([ 5. , 12.5, 20. ])"
      ]
     },
     "execution_count": 38,
     "metadata": {},
     "output_type": "execute_result"
    }
   ],
   "source": [
    "np.linspace(5,20,3)"
   ]
  },
  {
   "cell_type": "code",
   "execution_count": 39,
   "id": "a20ee03b",
   "metadata": {},
   "outputs": [
    {
     "data": {
      "text/plain": [
       "array([[1., 0., 0.],\n",
       "       [0., 1., 0.],\n",
       "       [0., 0., 1.]])"
      ]
     },
     "execution_count": 39,
     "metadata": {},
     "output_type": "execute_result"
    }
   ],
   "source": [
    "np.eye(3)"
   ]
  },
  {
   "cell_type": "code",
   "execution_count": 40,
   "id": "1d04aec9",
   "metadata": {},
   "outputs": [
    {
     "data": {
      "text/plain": [
       "array([[0.65244421, 0.79909584],\n",
       "       [0.0171747 , 0.90650062],\n",
       "       [0.84192283, 0.80036459]])"
      ]
     },
     "execution_count": 40,
     "metadata": {},
     "output_type": "execute_result"
    }
   ],
   "source": [
    "np.random.rand(3,2)  #beween 0 and 1"
   ]
  },
  {
   "cell_type": "code",
   "execution_count": 41,
   "id": "575c5678",
   "metadata": {},
   "outputs": [
    {
     "data": {
      "text/plain": [
       "array([[-1.72402638,  1.27270828],\n",
       "       [-0.52692292,  1.1522809 ],\n",
       "       [ 1.57386966,  0.8358548 ]])"
      ]
     },
     "execution_count": 41,
     "metadata": {},
     "output_type": "execute_result"
    }
   ],
   "source": [
    "np.random.randn(3,2)   #-ve are also inc"
   ]
  },
  {
   "cell_type": "code",
   "execution_count": 48,
   "id": "1cbab5d1",
   "metadata": {},
   "outputs": [
    {
     "data": {
      "text/plain": [
       "15"
      ]
     },
     "execution_count": 48,
     "metadata": {},
     "output_type": "execute_result"
    }
   ],
   "source": [
    "np.random.randint(1,17) #any random number of int datatype laying between 1 and 17"
   ]
  },
  {
   "cell_type": "code",
   "execution_count": 49,
   "id": "8205a0ba",
   "metadata": {},
   "outputs": [
    {
     "data": {
      "text/plain": [
       "13"
      ]
     },
     "execution_count": 49,
     "metadata": {},
     "output_type": "execute_result"
    }
   ],
   "source": [
    "np.random.randint(1,17)  #17 is not included"
   ]
  },
  {
   "cell_type": "code",
   "execution_count": 60,
   "id": "abf26ccf",
   "metadata": {},
   "outputs": [
    {
     "data": {
      "text/plain": [
       "array([ 0,  1,  2,  3,  4,  5,  6,  7,  8,  9, 10, 11, 12, 13, 14, 15, 16,\n",
       "       17, 18, 19, 20, 21, 22, 23, 24, 25, 26, 27, 28, 29, 30, 31, 32, 33,\n",
       "       34, 35, 36, 37, 38, 39, 40, 41, 42, 43, 44, 45, 46, 47, 48, 49])"
      ]
     },
     "execution_count": 60,
     "metadata": {},
     "output_type": "execute_result"
    }
   ],
   "source": [
    "arr=np.arange(50)\n",
    "arr"
   ]
  },
  {
   "cell_type": "code",
   "execution_count": 73,
   "id": "56c33afe",
   "metadata": {},
   "outputs": [
    {
     "data": {
      "text/plain": [
       "array([24, 69, 86, 50, 60, 98, 15, 16, 86, 67, 82, 18, 47, 25, 71, 22, 54,\n",
       "       98, 39, 74, 20, 25, 30,  9, 56, 69, 64, 27, 88,  0, 84, 46, 58, 98,\n",
       "       67,  2, 84, 73, 59, 24, 87, 81,  2,  0, 59, 82, 11, 58, 76, 90])"
      ]
     },
     "execution_count": 73,
     "metadata": {},
     "output_type": "execute_result"
    }
   ],
   "source": [
    "arr.T"
   ]
  },
  {
   "cell_type": "code",
   "execution_count": 74,
   "id": "92b642a1",
   "metadata": {},
   "outputs": [
    {
     "data": {
      "text/plain": [
       "array([ 0,  1,  2,  3,  4,  5,  6,  7,  8,  9, 10, 11, 12, 13, 14, 15, 16,\n",
       "       17, 18, 19, 20, 21, 22, 23, 24, 25, 26, 27, 28, 29])"
      ]
     },
     "execution_count": 74,
     "metadata": {},
     "output_type": "execute_result"
    }
   ],
   "source": [
    "sample_array=np.arange(30)\n",
    "sample_array"
   ]
  },
  {
   "cell_type": "code",
   "execution_count": 75,
   "id": "4ebda206",
   "metadata": {},
   "outputs": [
    {
     "data": {
      "text/plain": [
       "array([96, 52, 38, 73, 99, 72, 14, 46, 37, 66, 65, 23, 33, 49, 61, 79, 27,\n",
       "       50, 60, 54])"
      ]
     },
     "execution_count": 75,
     "metadata": {},
     "output_type": "execute_result"
    }
   ],
   "source": [
    "rand_array=np.random.randint(0,100,20)\n",
    "rand_array"
   ]
  },
  {
   "cell_type": "code",
   "execution_count": 78,
   "id": "c7c549e7",
   "metadata": {},
   "outputs": [
    {
     "data": {
      "text/plain": [
       "array([[ 0,  1,  2,  3,  4,  5],\n",
       "       [ 6,  7,  8,  9, 10, 11],\n",
       "       [12, 13, 14, 15, 16, 17],\n",
       "       [18, 19, 20, 21, 22, 23],\n",
       "       [24, 25, 26, 27, 28, 29]])"
      ]
     },
     "execution_count": 78,
     "metadata": {},
     "output_type": "execute_result"
    }
   ],
   "source": [
    "sample_array.reshape(5,6)"
   ]
  },
  {
   "cell_type": "code",
   "execution_count": 79,
   "id": "489485cc",
   "metadata": {},
   "outputs": [
    {
     "data": {
      "text/plain": [
       "array([ 0,  1,  2,  3,  4,  5,  6,  7,  8,  9, 10, 11, 12, 13, 14, 15, 16,\n",
       "       17, 18, 19, 20, 21, 22, 23, 24, 25, 26, 27, 28, 29])"
      ]
     },
     "execution_count": 79,
     "metadata": {},
     "output_type": "execute_result"
    }
   ],
   "source": [
    "sample_array.T"
   ]
  },
  {
   "cell_type": "code",
   "execution_count": 80,
   "id": "3611d2f6",
   "metadata": {},
   "outputs": [
    {
     "data": {
      "text/plain": [
       "0"
      ]
     },
     "execution_count": 80,
     "metadata": {},
     "output_type": "execute_result"
    }
   ],
   "source": [
    "sample_array.min()"
   ]
  },
  {
   "cell_type": "code",
   "execution_count": 81,
   "id": "c91e1cc4",
   "metadata": {},
   "outputs": [
    {
     "data": {
      "text/plain": [
       "14"
      ]
     },
     "execution_count": 81,
     "metadata": {},
     "output_type": "execute_result"
    }
   ],
   "source": [
    "rand_array.min()"
   ]
  },
  {
   "cell_type": "code",
   "execution_count": 82,
   "id": "f27fd25c",
   "metadata": {},
   "outputs": [
    {
     "data": {
      "text/plain": [
       "6"
      ]
     },
     "execution_count": 82,
     "metadata": {},
     "output_type": "execute_result"
    }
   ],
   "source": [
    "rand_array.argmin() #index of the minimum value"
   ]
  },
  {
   "cell_type": "code",
   "execution_count": 83,
   "id": "a2a7440f",
   "metadata": {},
   "outputs": [],
   "source": [
    "a=np.eye(5)"
   ]
  },
  {
   "cell_type": "code",
   "execution_count": 84,
   "id": "94e59ee6",
   "metadata": {},
   "outputs": [
    {
     "data": {
      "text/plain": [
       "array([[1., 0., 0., 0., 0.],\n",
       "       [0., 1., 0., 0., 0.],\n",
       "       [0., 0., 1., 0., 0.],\n",
       "       [0., 0., 0., 1., 0.],\n",
       "       [0., 0., 0., 0., 1.]])"
      ]
     },
     "execution_count": 84,
     "metadata": {},
     "output_type": "execute_result"
    }
   ],
   "source": [
    "a"
   ]
  },
  {
   "cell_type": "code",
   "execution_count": 85,
   "id": "1df05587",
   "metadata": {},
   "outputs": [],
   "source": [
    "a=np.random.rand(2,3)"
   ]
  },
  {
   "cell_type": "code",
   "execution_count": 86,
   "id": "1f587c06",
   "metadata": {},
   "outputs": [
    {
     "data": {
      "text/plain": [
       "array([[0.22561298, 0.85416146, 0.82946081],\n",
       "       [0.29519751, 0.95575593, 0.87767682]])"
      ]
     },
     "execution_count": 86,
     "metadata": {},
     "output_type": "execute_result"
    }
   ],
   "source": [
    "a"
   ]
  },
  {
   "cell_type": "code",
   "execution_count": 87,
   "id": "da81ecc2",
   "metadata": {},
   "outputs": [
    {
     "data": {
      "text/plain": [
       "array([[0.22561298, 0.29519751],\n",
       "       [0.85416146, 0.95575593],\n",
       "       [0.82946081, 0.87767682]])"
      ]
     },
     "execution_count": 87,
     "metadata": {},
     "output_type": "execute_result"
    }
   ],
   "source": [
    "a.T"
   ]
  },
  {
   "cell_type": "code",
   "execution_count": 91,
   "id": "f6f378fc",
   "metadata": {},
   "outputs": [],
   "source": [
    "new_arr=np.arange(15,31)"
   ]
  },
  {
   "cell_type": "code",
   "execution_count": 92,
   "id": "a4aa3ee4",
   "metadata": {},
   "outputs": [
    {
     "data": {
      "text/plain": [
       "array([15, 16, 17, 18, 19, 20, 21, 22, 23, 24, 25, 26, 27, 28, 29, 30])"
      ]
     },
     "execution_count": 92,
     "metadata": {},
     "output_type": "execute_result"
    }
   ],
   "source": [
    "new_arr"
   ]
  },
  {
   "cell_type": "code",
   "execution_count": 93,
   "id": "b86f1978",
   "metadata": {},
   "outputs": [
    {
     "data": {
      "text/plain": [
       "array([18, 19, 20, 21])"
      ]
     },
     "execution_count": 93,
     "metadata": {},
     "output_type": "execute_result"
    }
   ],
   "source": [
    "new_arr[3:7]"
   ]
  },
  {
   "cell_type": "code",
   "execution_count": 95,
   "id": "bf1cb449",
   "metadata": {},
   "outputs": [
    {
     "data": {
      "text/plain": [
       "array([ 15,  16, 100, 100, 100,  20,  21,  22,  23,  24,  25,  26,  27,\n",
       "        28,  29,  30])"
      ]
     },
     "execution_count": 95,
     "metadata": {},
     "output_type": "execute_result"
    }
   ],
   "source": [
    "new_arr[2:5]=100\n",
    "new_arr"
   ]
  },
  {
   "cell_type": "markdown",
   "id": "d2f379ab",
   "metadata": {},
   "source": [
    "# TWO DIMENSION ARRAY"
   ]
  },
  {
   "cell_type": "code",
   "execution_count": 96,
   "id": "4ce58ef3",
   "metadata": {},
   "outputs": [],
   "source": [
    "import numpy as np"
   ]
  },
  {
   "cell_type": "code",
   "execution_count": 97,
   "id": "01e4bf2b",
   "metadata": {},
   "outputs": [],
   "source": [
    "next_array=np.array([[12,56,34,98],[29,98,56,76],[74,34,21,56]])"
   ]
  },
  {
   "cell_type": "code",
   "execution_count": 98,
   "id": "6fd2d1ea",
   "metadata": {},
   "outputs": [
    {
     "data": {
      "text/plain": [
       "array([[12, 56, 34, 98],\n",
       "       [29, 98, 56, 76],\n",
       "       [74, 34, 21, 56]])"
      ]
     },
     "execution_count": 98,
     "metadata": {},
     "output_type": "execute_result"
    }
   ],
   "source": [
    "next_array"
   ]
  },
  {
   "cell_type": "code",
   "execution_count": 103,
   "id": "d7042421",
   "metadata": {},
   "outputs": [
    {
     "data": {
      "text/plain": [
       "array([34, 56])"
      ]
     },
     "execution_count": 103,
     "metadata": {},
     "output_type": "execute_result"
    }
   ],
   "source": [
    "next_array[0:2,2] #row 0 and 1 , whose column 2"
   ]
  },
  {
   "cell_type": "code",
   "execution_count": 100,
   "id": "51a6c52b",
   "metadata": {},
   "outputs": [
    {
     "data": {
      "text/plain": [
       "21"
      ]
     },
     "execution_count": 100,
     "metadata": {},
     "output_type": "execute_result"
    }
   ],
   "source": [
    "next_array[2,2]"
   ]
  },
  {
   "cell_type": "code",
   "execution_count": 101,
   "id": "9c2cae7f",
   "metadata": {},
   "outputs": [
    {
     "data": {
      "text/plain": [
       "74"
      ]
     },
     "execution_count": 101,
     "metadata": {},
     "output_type": "execute_result"
    }
   ],
   "source": [
    "next_array[2,0]"
   ]
  },
  {
   "cell_type": "code",
   "execution_count": 102,
   "id": "ac1daa44",
   "metadata": {},
   "outputs": [
    {
     "data": {
      "text/plain": [
       "array([74, 34, 21, 56])"
      ]
     },
     "execution_count": 102,
     "metadata": {},
     "output_type": "execute_result"
    }
   ],
   "source": [
    "next_array[2,:]"
   ]
  },
  {
   "cell_type": "code",
   "execution_count": 104,
   "id": "13ab31c9",
   "metadata": {},
   "outputs": [
    {
     "data": {
      "text/plain": [
       "array([74, 34, 21, 56])"
      ]
     },
     "execution_count": 104,
     "metadata": {},
     "output_type": "execute_result"
    }
   ],
   "source": [
    "next_array[2]"
   ]
  },
  {
   "cell_type": "code",
   "execution_count": 105,
   "id": "e8cc3ca6",
   "metadata": {},
   "outputs": [
    {
     "data": {
      "text/plain": [
       "array([34, 56, 21])"
      ]
     },
     "execution_count": 105,
     "metadata": {},
     "output_type": "execute_result"
    }
   ],
   "source": [
    "next_array[:,2]"
   ]
  },
  {
   "cell_type": "code",
   "execution_count": 111,
   "id": "480aa36a",
   "metadata": {},
   "outputs": [
    {
     "data": {
      "text/plain": [
       "array([[98, 34],\n",
       "       [76, 56],\n",
       "       [56, 21]])"
      ]
     },
     "execution_count": 111,
     "metadata": {},
     "output_type": "execute_result"
    }
   ],
   "source": [
    "next_array[:,(3,2)] \n",
    "#this will print column 3rd and second for all rows in the given order"
   ]
  },
  {
   "cell_type": "code",
   "execution_count": 109,
   "id": "cb153211",
   "metadata": {},
   "outputs": [
    {
     "data": {
      "text/plain": [
       "array([98, 76, 56])"
      ]
     },
     "execution_count": 109,
     "metadata": {},
     "output_type": "execute_result"
    }
   ],
   "source": [
    "next_array[:,3]"
   ]
  },
  {
   "cell_type": "code",
   "execution_count": 113,
   "id": "18765ea2",
   "metadata": {},
   "outputs": [
    {
     "data": {
      "text/plain": [
       "array([[ 24, 112,  68, 196],\n",
       "       [ 58, 196, 112, 152],\n",
       "       [148,  68,  42, 112]])"
      ]
     },
     "execution_count": 113,
     "metadata": {},
     "output_type": "execute_result"
    }
   ],
   "source": [
    "next_array+next_array"
   ]
  },
  {
   "cell_type": "code",
   "execution_count": 128,
   "id": "d2c93def",
   "metadata": {},
   "outputs": [],
   "source": [
    "neww_array=np.array([[1,2,3,4],[11,12,13,14],[21,22,23,24]])"
   ]
  },
  {
   "cell_type": "code",
   "execution_count": 130,
   "id": "88f2a8bc",
   "metadata": {},
   "outputs": [
    {
     "data": {
      "text/plain": [
       "array([[ 13,  58,  37, 102],\n",
       "       [ 40, 110,  69,  90],\n",
       "       [ 95,  56,  44,  80]])"
      ]
     },
     "execution_count": 130,
     "metadata": {},
     "output_type": "execute_result"
    }
   ],
   "source": [
    "next_array+neww_array #shapes sjould be same i.e here (4,4), 4 rows,4colums"
   ]
  },
  {
   "cell_type": "code",
   "execution_count": 131,
   "id": "627781a2",
   "metadata": {},
   "outputs": [
    {
     "data": {
      "text/plain": [
       "array([[1.62754791e+05, 2.09165950e+24, 5.83461743e+14, 3.63797095e+42],\n",
       "       [3.93133430e+12, 3.63797095e+42, 2.09165950e+24, 1.01480039e+33],\n",
       "       [1.37338298e+32, 5.83461743e+14, 1.31881573e+09, 2.09165950e+24]])"
      ]
     },
     "execution_count": 131,
     "metadata": {},
     "output_type": "execute_result"
    }
   ],
   "source": [
    "np.exp(next_array)"
   ]
  },
  {
   "cell_type": "code",
   "execution_count": 132,
   "id": "c4e8638d",
   "metadata": {},
   "outputs": [
    {
     "data": {
      "text/plain": [
       "array([[2.48490665, 4.02535169, 3.52636052, 4.58496748],\n",
       "       [3.36729583, 4.58496748, 4.02535169, 4.33073334],\n",
       "       [4.30406509, 3.52636052, 3.04452244, 4.02535169]])"
      ]
     },
     "execution_count": 132,
     "metadata": {},
     "output_type": "execute_result"
    }
   ],
   "source": [
    "np.log(next_array)"
   ]
  },
  {
   "cell_type": "code",
   "execution_count": 133,
   "id": "4fb88ff3",
   "metadata": {},
   "outputs": [
    {
     "data": {
      "text/plain": [
       "array([[3.46410162, 7.48331477, 5.83095189, 9.89949494],\n",
       "       [5.38516481, 9.89949494, 7.48331477, 8.71779789],\n",
       "       [8.60232527, 5.83095189, 4.58257569, 7.48331477]])"
      ]
     },
     "execution_count": 133,
     "metadata": {},
     "output_type": "execute_result"
    }
   ],
   "source": [
    "np.sqrt(next_array)"
   ]
  },
  {
   "cell_type": "code",
   "execution_count": 134,
   "id": "486c6e48",
   "metadata": {},
   "outputs": [
    {
     "data": {
      "text/plain": [
       "12"
      ]
     },
     "execution_count": 134,
     "metadata": {},
     "output_type": "execute_result"
    }
   ],
   "source": [
    "np.min(next_array)"
   ]
  },
  {
   "cell_type": "code",
   "execution_count": 135,
   "id": "eb592b4f",
   "metadata": {},
   "outputs": [
    {
     "data": {
      "text/plain": [
       "98"
      ]
     },
     "execution_count": 135,
     "metadata": {},
     "output_type": "execute_result"
    }
   ],
   "source": [
    "np.max(next_array)"
   ]
  },
  {
   "cell_type": "code",
   "execution_count": 136,
   "id": "64b71506",
   "metadata": {},
   "outputs": [
    {
     "data": {
      "text/plain": [
       "0"
      ]
     },
     "execution_count": 136,
     "metadata": {},
     "output_type": "execute_result"
    }
   ],
   "source": [
    "np.argmin(next_array)"
   ]
  },
  {
   "cell_type": "code",
   "execution_count": 137,
   "id": "a8cdfea4",
   "metadata": {},
   "outputs": [
    {
     "data": {
      "text/plain": [
       "3"
      ]
     },
     "execution_count": 137,
     "metadata": {},
     "output_type": "execute_result"
    }
   ],
   "source": [
    "np.argmax(next_array)"
   ]
  },
  {
   "cell_type": "code",
   "execution_count": 138,
   "id": "aa04239f",
   "metadata": {},
   "outputs": [
    {
     "data": {
      "text/plain": [
       "27.454001934549034"
      ]
     },
     "execution_count": 138,
     "metadata": {},
     "output_type": "execute_result"
    }
   ],
   "source": [
    "np.std(next_array)"
   ]
  },
  {
   "cell_type": "code",
   "execution_count": 139,
   "id": "de46d85c",
   "metadata": {},
   "outputs": [
    {
     "data": {
      "text/plain": [
       "753.7222222222222"
      ]
     },
     "execution_count": 139,
     "metadata": {},
     "output_type": "execute_result"
    }
   ],
   "source": [
    "np.var(next_array)"
   ]
  },
  {
   "cell_type": "code",
   "execution_count": 140,
   "id": "e4691e86",
   "metadata": {},
   "outputs": [
    {
     "data": {
      "text/plain": [
       "53.666666666666664"
      ]
     },
     "execution_count": 140,
     "metadata": {},
     "output_type": "execute_result"
    }
   ],
   "source": [
    "np.mean(next_array)"
   ]
  },
  {
   "cell_type": "code",
   "execution_count": 152,
   "id": "e09e6177",
   "metadata": {},
   "outputs": [
    {
     "data": {
      "text/plain": [
       "array([[ 144, 3136, 1156, 9604],\n",
       "       [ 841, 9604, 3136, 5776],\n",
       "       [5476, 1156,  441, 3136]])"
      ]
     },
     "execution_count": 152,
     "metadata": {},
     "output_type": "execute_result"
    }
   ],
   "source": [
    "np.square(next_array)"
   ]
  },
  {
   "cell_type": "code",
   "execution_count": 156,
   "id": "e3a99cbb",
   "metadata": {},
   "outputs": [
    {
     "data": {
      "text/plain": [
       "array([12, 21, 29, 34, 56, 74, 76, 98])"
      ]
     },
     "execution_count": 156,
     "metadata": {},
     "output_type": "execute_result"
    }
   ],
   "source": [
    "np.unique(next_array)"
   ]
  },
  {
   "cell_type": "code",
   "execution_count": 141,
   "id": "45c7f8b5",
   "metadata": {},
   "outputs": [
    {
     "data": {
      "text/plain": [
       "array([[12, 56, 34, 98],\n",
       "       [29, 98, 56, 76],\n",
       "       [74, 34, 21, 56]])"
      ]
     },
     "execution_count": 141,
     "metadata": {},
     "output_type": "execute_result"
    }
   ],
   "source": [
    "np.round(next_array,decimals=4)"
   ]
  },
  {
   "cell_type": "code",
   "execution_count": 154,
   "id": "9430ca35",
   "metadata": {},
   "outputs": [
    {
     "data": {
      "text/plain": [
       "array([[-0.30354752,  0.09670661, -0.59320789],\n",
       "       [-0.51842294, -1.10568918, -1.34547194],\n",
       "       [-0.83813119,  1.52070673, -0.46254976]])"
      ]
     },
     "execution_count": 154,
     "metadata": {},
     "output_type": "execute_result"
    }
   ],
   "source": [
    "a=np.random.randn(3,3)\n",
    "a"
   ]
  },
  {
   "cell_type": "code",
   "execution_count": 155,
   "id": "e37d6bc3",
   "metadata": {},
   "outputs": [
    {
     "data": {
      "text/plain": [
       "array([[-0.3,  0.1, -0.6],\n",
       "       [-0.5, -1.1, -1.3],\n",
       "       [-0.8,  1.5, -0.5]])"
      ]
     },
     "execution_count": 155,
     "metadata": {},
     "output_type": "execute_result"
    }
   ],
   "source": [
    "np.round(a,decimals=1)"
   ]
  },
  {
   "cell_type": "code",
   "execution_count": 157,
   "id": "042584b6",
   "metadata": {},
   "outputs": [
    {
     "data": {
      "text/plain": [
       "array([[-0.304,  0.097, -0.593],\n",
       "       [-0.518, -1.106, -1.345],\n",
       "       [-0.838,  1.521, -0.463]])"
      ]
     },
     "execution_count": 157,
     "metadata": {},
     "output_type": "execute_result"
    }
   ],
   "source": [
    "np.round(a,decimals=3)"
   ]
  },
  {
   "cell_type": "code",
   "execution_count": null,
   "id": "d17385b1",
   "metadata": {},
   "outputs": [],
   "source": []
  }
 ],
 "metadata": {
  "kernelspec": {
   "display_name": "Python 3 (ipykernel)",
   "language": "python",
   "name": "python3"
  },
  "language_info": {
   "codemirror_mode": {
    "name": "ipython",
    "version": 3
   },
   "file_extension": ".py",
   "mimetype": "text/x-python",
   "name": "python",
   "nbconvert_exporter": "python",
   "pygments_lexer": "ipython3",
   "version": "3.9.12"
  }
 },
 "nbformat": 4,
 "nbformat_minor": 5
}
