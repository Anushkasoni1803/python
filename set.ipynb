{
 "cells": [
  {
   "cell_type": "markdown",
   "id": "dd808b81",
   "metadata": {},
   "source": [
    "#sets are mutable i.e can be edited(append,delete,,)\n",
    "sets like in mathematics are denoted using curly braces\n",
    "\n",
    "In Python, a set is an unordered collection of unique elements. The elements of a set can be of any data type, such as integers, floating-point numbers, strings, and even other sets. Sets are typically used when you need to store unique elements, or when you need to perform operations that involve sets, such as union, intersection, and difference.\n",
    "\n",
    "Here are some basic operations you can perform on sets in Python:"
   ]
  },
  {
   "cell_type": "code",
   "execution_count": 16,
   "id": "a758f405",
   "metadata": {},
   "outputs": [],
   "source": [
    "#first"
   ]
  },
  {
   "cell_type": "markdown",
   "id": "dc63a0f3",
   "metadata": {},
   "source": [
    "Creating a set: You can create a set using the set() function or by enclosing a comma-separated list of values inside curly braces ({}):"
   ]
  },
  {
   "cell_type": "code",
   "execution_count": 17,
   "id": "b2a883f4",
   "metadata": {},
   "outputs": [
    {
     "data": {
      "text/plain": [
       "{12, 3, 3.5, 7, 'ab'}"
      ]
     },
     "execution_count": 17,
     "metadata": {},
     "output_type": "execute_result"
    }
   ],
   "source": [
    "my={12,3.5,7,'ab',3}\n",
    "my"
   ]
  },
  {
   "cell_type": "markdown",
   "id": "8062b279",
   "metadata": {},
   "source": [
    "when we call set or print whole set it arranges the set in first order"
   ]
  },
  {
   "cell_type": "code",
   "execution_count": 18,
   "id": "a5c34428",
   "metadata": {},
   "outputs": [
    {
     "data": {
      "text/plain": [
       "set"
      ]
     },
     "execution_count": 18,
     "metadata": {},
     "output_type": "execute_result"
    }
   ],
   "source": [
    "type(my)"
   ]
  },
  {
   "cell_type": "code",
   "execution_count": null,
   "id": "ee6e4072",
   "metadata": {},
   "outputs": [],
   "source": [
    "my[2]"
   ]
  },
  {
   "cell_type": "markdown",
   "id": "e50e982e",
   "metadata": {},
   "source": [
    "property: these errors show that set elements cannot be retrived "
   ]
  },
  {
   "cell_type": "code",
   "execution_count": 19,
   "id": "ee06fc95",
   "metadata": {},
   "outputs": [
    {
     "ename": "TypeError",
     "evalue": "'set' object is not callable",
     "output_type": "error",
     "traceback": [
      "\u001b[1;31m---------------------------------------------------------------------------\u001b[0m",
      "\u001b[1;31mTypeError\u001b[0m                                 Traceback (most recent call last)",
      "Input \u001b[1;32mIn [19]\u001b[0m, in \u001b[0;36m<cell line: 1>\u001b[1;34m()\u001b[0m\n\u001b[1;32m----> 1\u001b[0m \u001b[43mmy\u001b[49m\u001b[43m(\u001b[49m\u001b[38;5;241;43m2\u001b[39;49m\u001b[43m)\u001b[49m\n",
      "\u001b[1;31mTypeError\u001b[0m: 'set' object is not callable"
     ]
    }
   ],
   "source": [
    "my(2)"
   ]
  },
  {
   "cell_type": "code",
   "execution_count": 19,
   "id": "f468182e",
   "metadata": {},
   "outputs": [],
   "source": [
    "#2. Adding elements to a set: You can add an element to a set using the add() method:"
   ]
  },
  {
   "cell_type": "code",
   "execution_count": 20,
   "id": "7227961e",
   "metadata": {},
   "outputs": [],
   "source": [
    "my.add(2)"
   ]
  },
  {
   "cell_type": "code",
   "execution_count": 21,
   "id": "388e123f",
   "metadata": {},
   "outputs": [
    {
     "data": {
      "text/plain": [
       "{12, 2, 3, 3.5, 7, 'ab'}"
      ]
     },
     "execution_count": 21,
     "metadata": {},
     "output_type": "execute_result"
    }
   ],
   "source": [
    "my"
   ]
  },
  {
   "cell_type": "code",
   "execution_count": null,
   "id": "7f992480",
   "metadata": {},
   "outputs": [],
   "source": [
    "my.append(12)\n",
    "my\n",
    "#note: append is ot used in sets"
   ]
  },
  {
   "cell_type": "code",
   "execution_count": 22,
   "id": "2c4d6015",
   "metadata": {},
   "outputs": [
    {
     "data": {
      "text/plain": [
       "{12, 3, 3.5, 7, 'ab'}"
      ]
     },
     "execution_count": 22,
     "metadata": {},
     "output_type": "execute_result"
    }
   ],
   "source": [
    "#Removing elements from a set: You can remove an element from a set using the remove() method:\n",
    "my.remove(2)\n",
    "my\n"
   ]
  },
  {
   "cell_type": "code",
   "execution_count": 37,
   "id": "ca038059",
   "metadata": {},
   "outputs": [
    {
     "data": {
      "text/plain": [
       "1"
      ]
     },
     "execution_count": 37,
     "metadata": {},
     "output_type": "execute_result"
    }
   ],
   "source": [
    "#You can remove elements from a set using the remove(), discard() or pop() methods.\n",
    "set2 = {1, 2, 3, 4, 5}\n",
    "set2.remove(3) # removes the element 3 from set2\n",
    "set2.discard(6) # removes the element 6 from set2 if it exists\n",
    "set2.pop() # removes and returns an arbitrary element from set2\n"
   ]
  },
  {
   "cell_type": "markdown",
   "id": "1dfb4687",
   "metadata": {},
   "source": [
    "PROPERTIES OF SETS:\n",
    "Unordered collection: A set is an unordered collection of unique elements. This means that the elements in a set have no specific order.\n",
    "\n",
    "Unique elements: A set can only contain unique elements. If you try to add a duplicate element to a set, it will simply be ignored.\n",
    "\n",
    "Supports mathematical set operations: Sets support various mathematical set operations such as union, intersection, difference, symmetric difference, issubset, issuperset, and isdisjoint.\n",
    "\n",
    "Iteration: You can iterate over the elements of a set using a loop or the built-in iter() function.\n",
    "\n",
    "Membership testing: You can test if an element is in a set using the in keyword.\n",
    "\n",
    "No duplicate elements: Sets do not allow duplicate elements, which means that if you try to add an element that already exists in the set, it will be ignored."
   ]
  },
  {
   "cell_type": "code",
   "execution_count": 27,
   "id": "14372284",
   "metadata": {},
   "outputs": [
    {
     "name": "stdout",
     "output_type": "stream",
     "text": [
      "1 is in set2\n"
     ]
    }
   ],
   "source": [
    "set2={1,11,2,3,4,6}\n",
    "if 1 in set2:\n",
    "    print(\"1 is in set2\")"
   ]
  },
  {
   "cell_type": "markdown",
   "id": "7aae1265",
   "metadata": {},
   "source": [
    "Union, intersection, and difference: You can perform operations that involve sets, such as union, intersection, and difference, using the union(), intersection(), and difference() methods, respectively:\n",
    "Note that these operations do not modify the original sets, but instead return a new set."
   ]
  },
  {
   "cell_type": "code",
   "execution_count": 31,
   "id": "86dd7e26",
   "metadata": {},
   "outputs": [],
   "source": [
    "set3 = {2, 3, 4}\n",
    "union_set = set2.union(set3)\n",
    "intersection_set = set2.intersection(set3)\n",
    "difference_set = set2.difference(set3)"
   ]
  },
  {
   "cell_type": "code",
   "execution_count": 32,
   "id": "ac550be7",
   "metadata": {},
   "outputs": [
    {
     "data": {
      "text/plain": [
       "{1, 2, 3, 4, 6, 11}"
      ]
     },
     "execution_count": 32,
     "metadata": {},
     "output_type": "execute_result"
    }
   ],
   "source": [
    "union_set"
   ]
  },
  {
   "cell_type": "code",
   "execution_count": 33,
   "id": "9a04d593",
   "metadata": {},
   "outputs": [
    {
     "data": {
      "text/plain": [
       "{2, 3, 4}"
      ]
     },
     "execution_count": 33,
     "metadata": {},
     "output_type": "execute_result"
    }
   ],
   "source": [
    "intersection_set"
   ]
  },
  {
   "cell_type": "code",
   "execution_count": 34,
   "id": "425b2eb4",
   "metadata": {},
   "outputs": [
    {
     "data": {
      "text/plain": [
       "{1, 6, 11}"
      ]
     },
     "execution_count": 34,
     "metadata": {},
     "output_type": "execute_result"
    }
   ],
   "source": [
    "difference_set"
   ]
  },
  {
   "cell_type": "code",
   "execution_count": 36,
   "id": "db410371",
   "metadata": {},
   "outputs": [
    {
     "data": {
      "text/plain": [
       "{0, 1, 4, 9, 16, 25, 36, 49, 64, 81}"
      ]
     },
     "execution_count": 36,
     "metadata": {},
     "output_type": "execute_result"
    }
   ],
   "source": [
    "set4 = {x**2 for x in range(10)}\n",
    "set4"
   ]
  },
  {
   "cell_type": "code",
   "execution_count": null,
   "id": "0223a0d1",
   "metadata": {},
   "outputs": [],
   "source": []
  }
 ],
 "metadata": {
  "kernelspec": {
   "display_name": "Python 3 (ipykernel)",
   "language": "python",
   "name": "python3"
  },
  "language_info": {
   "codemirror_mode": {
    "name": "ipython",
    "version": 3
   },
   "file_extension": ".py",
   "mimetype": "text/x-python",
   "name": "python",
   "nbconvert_exporter": "python",
   "pygments_lexer": "ipython3",
   "version": "3.9.12"
  }
 },
 "nbformat": 4,
 "nbformat_minor": 5
}
