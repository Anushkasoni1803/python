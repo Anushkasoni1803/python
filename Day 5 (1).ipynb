{
 "cells": [
  {
   "cell_type": "code",
   "execution_count": null,
   "metadata": {},
   "outputs": [],
   "source": [
    "'''  MORE LIBRARIES IN PYTHON\n",
    "Matplotlib: Helps in creating visualisation like line plot, scatter plot, barcharts, histogram, picharts, stem plots, \n",
    "spectograms etc.\n",
    "\n",
    "SEABORN: It is generally used for creating visualization of statistical models. It includes Heatmaps and charts that show \n",
    "better effect for sumerized data.\n",
    "\n",
    "SCIPY: Scientific python: It contains modules for linear algebra, optimization,statistics etc\n",
    "\n",
    "Statsmodels: This enables the users to conduct data exploration, estimate statistical models and perform statistical analysis\n",
    "\n",
    "sklearn: It is built upon scipy and hence scipy must be installed first. It provides arrange of supervised and unsupervised\n",
    "ML Algorithms like clusterring, cross validation, data sets, dimension reduction, feature extraction,linear models,naivebais \n",
    "methods, decission tree etc\n",
    "\n",
    "nltk: natural langauge processing(NLP) It is a library used for common task associated with NLP, It allows lot of \n",
    "operations such as text tagging, classification, tokenization, building corpus, stemming, etc\n",
    "\n",
    "keras: It is used for deep learning with leval neural networks. It runs on tenserflow and allows easy and fast prototyping\n",
    "with its important features and modularity and extensibility'''"
   ]
  },
  {
   "cell_type": "code",
   "execution_count": 1,
   "metadata": {},
   "outputs": [
    {
     "name": "stdout",
     "output_type": "stream",
     "text": [
      "hey\n",
      "there\n",
      "its \n",
      "anushka\n"
     ]
    }
   ],
   "source": [
    "#STRINGS\n",
    "\n",
    "a='''hey\n",
    "there\n",
    "its \n",
    "anushka'''\n",
    "print(a)"
   ]
  },
  {
   "cell_type": "code",
   "execution_count": 5,
   "metadata": {},
   "outputs": [
    {
     "name": "stdout",
     "output_type": "stream",
     "text": [
      "r\n",
      "a\n",
      "g\n"
     ]
    }
   ],
   "source": [
    "b='gaurishanakar'\n",
    "print(b[-1])\n",
    "print(b[1])\n",
    "print(b[0])"
   ]
  },
  {
   "cell_type": "code",
   "execution_count": 17,
   "metadata": {},
   "outputs": [
    {
     "name": "stdout",
     "output_type": "stream",
     "text": [
      "au\n",
      "aurishanakar\n",
      "gaurisha\n",
      "gaurishanakar\n",
      "arsaa\n"
     ]
    }
   ],
   "source": [
    "#string sclicing\n",
    "b='gaurishanakar'\n",
    "print(b[1:3])\n",
    "print(b[1:])\n",
    "print(b[:-5])\n",
    "print(b[:])\n",
    "print(b[1:10:2])   #from index 1 to 9 is to be printed such that every second no. is printed"
   ]
  },
  {
   "cell_type": "code",
   "execution_count": 21,
   "metadata": {},
   "outputs": [
    {
     "name": "stdout",
     "output_type": "stream",
     "text": [
      "11\n",
      "7\n"
     ]
    }
   ],
   "source": [
    "a='anushkasoni'\n",
    "b='durgesh'\n",
    "print(len(a))\n",
    "print(len(b))"
   ]
  },
  {
   "cell_type": "code",
   "execution_count": 28,
   "metadata": {},
   "outputs": [
    {
     "data": {
      "text/plain": [
       "True"
      ]
     },
     "execution_count": 28,
     "metadata": {},
     "output_type": "execute_result"
    }
   ],
   "source": [
    "a='gaurishankar'\n",
    "a.endswith(\"ar\")\n"
   ]
  },
  {
   "cell_type": "code",
   "execution_count": 30,
   "metadata": {},
   "outputs": [
    {
     "data": {
      "text/plain": [
       "'Gauri shankar'"
      ]
     },
     "execution_count": 30,
     "metadata": {},
     "output_type": "execute_result"
    }
   ],
   "source": [
    "a='gauri shankar'\n",
    "a.capitalize()"
   ]
  },
  {
   "cell_type": "code",
   "execution_count": 32,
   "metadata": {},
   "outputs": [
    {
     "data": {
      "text/plain": [
       "17"
      ]
     },
     "execution_count": 32,
     "metadata": {},
     "output_type": "execute_result"
    }
   ],
   "source": [
    "sentance='Hello there ,its anushka'\n",
    "sentance.find('anu')"
   ]
  },
  {
   "cell_type": "code",
   "execution_count": 43,
   "metadata": {},
   "outputs": [
    {
     "data": {
      "text/plain": [
       "'Hello there ,its tanisha'"
      ]
     },
     "execution_count": 43,
     "metadata": {},
     "output_type": "execute_result"
    }
   ],
   "source": [
    "sentance='Hello there ,its anushka'\n",
    "sentance.replace(\"anushka\",\"tanisha\")"
   ]
  },
  {
   "cell_type": "code",
   "execution_count": 38,
   "metadata": {},
   "outputs": [
    {
     "name": "stdout",
     "output_type": "stream",
     "text": [
      "Hello there ,its\\anushka\n"
     ]
    }
   ],
   "source": [
    "#use of \\n ,\\t,\\',\\\\\n",
    "sentance='Hello there ,its\\\\anushka'\n",
    "print(sentance)"
   ]
  },
  {
   "cell_type": "code",
   "execution_count": 44,
   "metadata": {},
   "outputs": [
    {
     "name": "stdout",
     "output_type": "stream",
     "text": [
      "anushka\n"
     ]
    }
   ],
   "source": [
    "name='anu'\n",
    "sun='shka'\n",
    "print(name+sun)"
   ]
  },
  {
   "cell_type": "code",
   "execution_count": 46,
   "metadata": {},
   "outputs": [
    {
     "name": "stdout",
     "output_type": "stream",
     "text": [
      "0\n"
     ]
    }
   ],
   "source": [
    "print(22%2)"
   ]
  },
  {
   "cell_type": "code",
   "execution_count": 48,
   "metadata": {},
   "outputs": [
    {
     "name": "stdout",
     "output_type": "stream",
     "text": [
      "The--country-- India\n"
     ]
    }
   ],
   "source": [
    "print(\"The\", \"country\",\" India\",sep=\"--\")"
   ]
  },
  {
   "cell_type": "code",
   "execution_count": null,
   "metadata": {},
   "outputs": [],
   "source": [
    "#use of different relation oper\n",
    "#comments\n",
    "#utility of eval function, sep argument in print\n",
    "#different naming use of variables\n",
    "#diff betw int and float\n",
    "#significance of operator precedence\n",
    "#basic functanility of some common libraries and module\n",
    "#importance of module\n"
   ]
  }
 ],
 "metadata": {
  "kernelspec": {
   "display_name": "Python 3 (ipykernel)",
   "language": "python",
   "name": "python3"
  },
  "language_info": {
   "codemirror_mode": {
    "name": "ipython",
    "version": 3
   },
   "file_extension": ".py",
   "mimetype": "text/x-python",
   "name": "python",
   "nbconvert_exporter": "python",
   "pygments_lexer": "ipython3",
   "version": "3.9.12"
  }
 },
 "nbformat": 4,
 "nbformat_minor": 4
}
