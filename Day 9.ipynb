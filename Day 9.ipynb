{
 "cells": [
  {
   "cell_type": "code",
   "execution_count": 5,
   "id": "0681c963",
   "metadata": {},
   "outputs": [
    {
     "name": "stdout",
     "output_type": "stream",
     "text": [
      "Original list is [100, 200, 300, 400, 500, 600, 700, 800, 900, 1000]\n",
      "[101, 200, 300, 400, 500, 600, 700, 800, 900, 1000]\n"
     ]
    }
   ],
   "source": [
    "#Program to modify existing list element\n",
    "lst1=[100,200,300,400,500,600,700,800,900,1000]\n",
    "print(\"Original list is\",lst1)\n",
    "lst1[0]=101\n",
    "print(lst1)"
   ]
  },
  {
   "cell_type": "code",
   "execution_count": 10,
   "id": "3eb068a1",
   "metadata": {},
   "outputs": [
    {
     "name": "stdout",
     "output_type": "stream",
     "text": [
      "[11, 12, 13]\n",
      "[]\n",
      "[11, 12, 13]\n",
      "[16, 17, 18, 19, 20]\n",
      "[17, 18, 19, 20]\n",
      "[]\n"
     ]
    }
   ],
   "source": [
    "#List slicing\n",
    "lst2=[11,12,13,14,15,16,17,18,19,20]\n",
    "print(lst2[0:3])\n",
    "print(lst2[-4:2])\n",
    "print(lst2[:3])\n",
    "print(lst2[5:])\n",
    "print(lst2[6:12])\n",
    "print(lst2[4:0])"
   ]
  },
  {
   "cell_type": "code",
   "execution_count": 15,
   "id": "5d7765de",
   "metadata": {},
   "outputs": [
    {
     "name": "stdout",
     "output_type": "stream",
     "text": [
      "The element 1 is 1\n",
      "The element 2 is 3.5\n",
      "The element 3 is 9\n",
      "The element 4 is [10, 11, 12, 13]\n",
      "The element 5 is 34\n",
      "The element 6 is ['UK', 'India', 'Australia', 'Dubai']\n",
      "The element 7 is -11\n"
     ]
    },
    {
     "data": {
      "text/plain": [
       "'for val in range(0,8):\\n    print(\"The element\",val,\"is\",lst3[val])'"
      ]
     },
     "execution_count": 15,
     "metadata": {},
     "output_type": "execute_result"
    }
   ],
   "source": [
    "#Program to access elements of hetrogenous list\n",
    "lst3=[1,3.5,9,[10,11,12,13],34,['UK','India','Australia','Dubai'],-11]\n",
    "for val in range(0,7):\n",
    "    print(\"The element\",val+1,\"is\",lst3[val])\n",
    "    \n",
    "    #OR\n",
    "'''for val in range(0,8):\n",
    "    print(\"The element\",val,\"is\",lst3[val])'''\n"
   ]
  },
  {
   "cell_type": "code",
   "execution_count": 19,
   "id": "6f0e0661",
   "metadata": {},
   "outputs": [
    {
     "name": "stdout",
     "output_type": "stream",
     "text": [
      "10\n",
      "11\n",
      "12\n",
      "13\n"
     ]
    }
   ],
   "source": [
    "#accessing individual item of a nested list\n",
    "lst3=[1,3.5,9,[10,11,12,13],34,['UK','India','Australia','Dubai'],-11]\n",
    "for x in range(0,4):\n",
    "    print(lst3[3][x])"
   ]
  },
  {
   "cell_type": "code",
   "execution_count": 20,
   "id": "0558ca0b",
   "metadata": {},
   "outputs": [
    {
     "name": "stdout",
     "output_type": "stream",
     "text": [
      "UK\n",
      "India\n",
      "Australia\n",
      "Dubai\n"
     ]
    }
   ],
   "source": [
    "for x in range(0,4):\n",
    "    print(lst3[5][x])"
   ]
  },
  {
   "cell_type": "code",
   "execution_count": 22,
   "id": "544d3f8f",
   "metadata": {},
   "outputs": [
    {
     "name": "stdout",
     "output_type": "stream",
     "text": [
      "[101, 200, 300, 400, 500, 600, 700, 800, 900, 1000, 1, 3.5, 9, [10, 11, 12, 13], 34, ['UK', 'India', 'Australia', 'Dubai'], -11]\n"
     ]
    }
   ],
   "source": [
    "#Concatination of two list in one single list\n",
    "lst4=lst1+lst3\n",
    "print(lst4)"
   ]
  },
  {
   "cell_type": "code",
   "execution_count": 34,
   "id": "fb0d6b64",
   "metadata": {},
   "outputs": [
    {
     "data": {
      "text/plain": [
       "13"
      ]
     },
     "execution_count": 34,
     "metadata": {},
     "output_type": "execute_result"
    }
   ],
   "source": [
    "import random\n",
    "random.uniform(9,14)\n",
    "random.randrange(9,14)"
   ]
  },
  {
   "cell_type": "code",
   "execution_count": 41,
   "id": "d259988c",
   "metadata": {},
   "outputs": [
    {
     "data": {
      "text/plain": [
       "3"
      ]
     },
     "execution_count": 41,
     "metadata": {},
     "output_type": "execute_result"
    }
   ],
   "source": [
    "a=(2,4,7,3)\n",
    "a[-1]"
   ]
  },
  {
   "cell_type": "code",
   "execution_count": null,
   "id": "126726f3",
   "metadata": {},
   "outputs": [],
   "source": []
  }
 ],
 "metadata": {
  "kernelspec": {
   "display_name": "Python 3 (ipykernel)",
   "language": "python",
   "name": "python3"
  },
  "language_info": {
   "codemirror_mode": {
    "name": "ipython",
    "version": 3
   },
   "file_extension": ".py",
   "mimetype": "text/x-python",
   "name": "python",
   "nbconvert_exporter": "python",
   "pygments_lexer": "ipython3",
   "version": "3.9.12"
  }
 },
 "nbformat": 4,
 "nbformat_minor": 5
}
