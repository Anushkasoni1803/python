{
 "cells": [
  {
   "cell_type": "code",
   "execution_count": 1,
   "id": "a9ae24c1",
   "metadata": {},
   "outputs": [],
   "source": [
    "#functions"
   ]
  },
  {
   "cell_type": "code",
   "execution_count": 5,
   "id": "89199f5c",
   "metadata": {},
   "outputs": [
    {
     "name": "stdout",
     "output_type": "stream",
     "text": [
      "welcome\n",
      "4000\n"
     ]
    }
   ],
   "source": [
    "def bill():\n",
    "    print(\"welcome\")\n",
    "    amount=4000\n",
    "    return amount\n",
    "\n",
    "val=bill()\n",
    "print(val)"
   ]
  },
  {
   "cell_type": "code",
   "execution_count": 6,
   "id": "c8c9d530",
   "metadata": {},
   "outputs": [
    {
     "name": "stdout",
     "output_type": "stream",
     "text": [
      "enter 2 numbers4,8\n",
      "False\n"
     ]
    }
   ],
   "source": [
    "#returning a boolean func\n",
    "n1,n2=eval(input(\"enter 2 numbers\"))\n",
    "def num():\n",
    "    if n1%n2==0:\n",
    "        return True\n",
    "    else:\n",
    "        return False\n",
    "print(num())"
   ]
  },
  {
   "cell_type": "code",
   "execution_count": 8,
   "id": "43ef8d3f",
   "metadata": {},
   "outputs": [
    {
     "name": "stdout",
     "output_type": "stream",
     "text": [
      "\n",
      "sale in maharashtra 5000 in gujrat 2500 in delhi 8470\n"
     ]
    }
   ],
   "source": [
    "#creating a function that returns multiple values\n",
    "def amount():\n",
    "    print(\"\")\n",
    "    maharashtra=5000\n",
    "    gujrat=2500\n",
    "    delhi=8470\n",
    "    return maharashtra,gujrat,delhi\n",
    "a1,a2,a3=amount()\n",
    "print(\"sale in maharashtra\",a1,\"in gujrat\",a2,\"in delhi\",a3)"
   ]
  },
  {
   "cell_type": "code",
   "execution_count": 12,
   "id": "582ad999",
   "metadata": {},
   "outputs": [
    {
     "name": "stdout",
     "output_type": "stream",
     "text": [
      "20 * 0 = 0\n",
      "20 * 1 = 20\n",
      "20 * 2 = 40\n",
      "20 * 3 = 60\n",
      "20 * 4 = 80\n",
      "20 * 5 = 100\n",
      "20 * 6 = 120\n",
      "20 * 7 = 140\n",
      "20 * 8 = 160\n",
      "20 * 9 = 180\n",
      "20 * 10 = 200\n"
     ]
    }
   ],
   "source": [
    "#function with arguments for printing table\n",
    "def table(num1):\n",
    "    for i in range(11):\n",
    "        print(num1,\"*\",i,\"=\",num1*i)\n",
    "table(20)\n",
    "            "
   ]
  },
  {
   "cell_type": "code",
   "execution_count": 20,
   "id": "1a62aa09",
   "metadata": {},
   "outputs": [
    {
     "name": "stdout",
     "output_type": "stream",
     "text": [
      "printing the table using 3 arguments\n",
      "7 * 1 = 7\n",
      "7 * 2 = 14\n",
      "printing the table using 3 name arguments\n",
      "7 * 3 = 21\n",
      "7 * 4 = 28\n",
      "printing the table by changing order of arguments\n",
      "7 * 4 = 28\n",
      "7 * 5 = 35\n"
     ]
    }
   ],
   "source": [
    "#function with multiple arguments\n",
    "def newtable(num1,num2,num3):\n",
    "    for i in range(num2,num3):\n",
    "        print(num1,\"*\",i,\"=\",num1*i)\n",
    "print(\"printing the table using 3 arguments\")\n",
    "newtable(7,1,3)\n",
    "\n",
    "print(\"printing the table using 3 name arguments\")\n",
    "newtable(num1=7,num2=3,num3=5)\n",
    "\n",
    "print(\"printing the table by changing order of arguments\")\n",
    "newtable(num3=6,num1=7,num2=4)"
   ]
  },
  {
   "cell_type": "markdown",
   "id": "87a44e70",
   "metadata": {},
   "source": [
    "Data Structures play an important role in programming, the diffrent data structures included in python are arrary, list, tuples and dictionary . The difference between an array and list is that array is the collection of similar datatypes where list can be collection od different data types. While Array and List can be modified by adding , deleting and modifying the existing the elements. It is not possible to modify a tuple. A dictionary is a unique data structure generally not available in programming langauge and is represented as key:value pair. Creation of datastructures accessing DS diffrent functions related data structures and programming related to them is now discussed. for effective programming related to arrarys we need to create array through numpy library or array module\n",
    "\n",
    "\n"
   ]
  },
  {
   "cell_type": "code",
   "execution_count": 31,
   "id": "1fd4dae5",
   "metadata": {},
   "outputs": [
    {
     "name": "stdout",
     "output_type": "stream",
     "text": [
      "please enter five decimal numbers\n",
      "enter numbers1:1\n",
      "enter numbers2:2\n",
      "enter numbers3:3\n",
      "enter numbers4:4\n",
      "enter numbers5:8\n",
      "COMPLETE LIST IS: \n",
      "1.02.03.04.08.0ON ADDITION:  18.0\n"
     ]
    }
   ],
   "source": [
    "# creating a list: program to add number using list\n",
    "print(\"please enter five decimal numbers\")\n",
    "total=0\n",
    "lst=[]\n",
    "for i in range(0,5):\n",
    "    val=float(input(\"enter numbers\"+str(i+1)+\":\"))   #takes i as string\n",
    "    lst+=[val]\n",
    "    total+=val\n",
    "def display():\n",
    "    print(\"COMPLETE LIST IS: \")\n",
    "    for num in lst:\n",
    "        print(num,end='')\n",
    "\n",
    "def sum():\n",
    "    print(\"ON ADDITION: \",total)\n",
    "    \n",
    "    \n",
    "display()\n",
    "sum()\n",
    "    "
   ]
  },
  {
   "cell_type": "code",
   "execution_count": 5,
   "id": "d5456052",
   "metadata": {},
   "outputs": [
    {
     "name": "stdout",
     "output_type": "stream",
     "text": [
      "[12, 13, 14, 15, 16, 17, 18]\n"
     ]
    }
   ],
   "source": [
    "#program to create list using List and range function\n",
    "lst1=list(range(12,19))\n",
    "print(lst1)"
   ]
  },
  {
   "cell_type": "code",
   "execution_count": 7,
   "id": "83782002",
   "metadata": {},
   "outputs": [
    {
     "name": "stdout",
     "output_type": "stream",
     "text": [
      "[-3, -2, -1, 0, 1, 2, 3, 4]\n"
     ]
    }
   ],
   "source": [
    "#create a list of negative to positive integers with default interval\n",
    "lst2=list(range(-3,5))\n",
    "print(lst2)"
   ]
  },
  {
   "cell_type": "code",
   "execution_count": 9,
   "id": "24e30d02",
   "metadata": {},
   "outputs": [
    {
     "name": "stdout",
     "output_type": "stream",
     "text": [
      "[30, 28, 26, 24, 22, 20, 18, 16, 14, 12, 10, 8, 6, 4, 2, 0, -2, -4, -6, -8]\n"
     ]
    }
   ],
   "source": [
    "#creating a list of numbers in decending order with specified interval\n",
    "lst3=list(range(30,-10,-2))\n",
    "print(lst3)"
   ]
  },
  {
   "cell_type": "code",
   "execution_count": 11,
   "id": "845732be",
   "metadata": {},
   "outputs": [
    {
     "name": "stdout",
     "output_type": "stream",
     "text": [
      "[0, 50, 100, 150, 200, 250]\n"
     ]
    }
   ],
   "source": [
    "#creating a list of numbers in ascending order with specified interval\n",
    "lst4=list(range(0,300,50))\n",
    "print(lst4)"
   ]
  },
  {
   "cell_type": "code",
   "execution_count": null,
   "id": "00f7ced5",
   "metadata": {},
   "outputs": [],
   "source": []
  },
  {
   "cell_type": "code",
   "execution_count": null,
   "id": "f087fbfb",
   "metadata": {},
   "outputs": [],
   "source": []
  }
 ],
 "metadata": {
  "kernelspec": {
   "display_name": "Python 3 (ipykernel)",
   "language": "python",
   "name": "python3"
  },
  "language_info": {
   "codemirror_mode": {
    "name": "ipython",
    "version": 3
   },
   "file_extension": ".py",
   "mimetype": "text/x-python",
   "name": "python",
   "nbconvert_exporter": "python",
   "pygments_lexer": "ipython3",
   "version": "3.9.12"
  }
 },
 "nbformat": 4,
 "nbformat_minor": 5
}
