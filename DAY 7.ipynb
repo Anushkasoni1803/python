{
 "cells": [
  {
   "cell_type": "markdown",
   "id": "66d538d5",
   "metadata": {},
   "source": [
    "'''A function is a set of statement put together to perform a specific task . They are very usefull, when a block of \n",
    "statement has to be written once and executed multiple times with or without diffent inputs. Thus the functon is the standard\n",
    "unit of reuse , these are very helpful when the program size is too large. they are also used to reduce the difficulties \n",
    "during debugging a program by the programmer because of its modularity feature. It is an object"
   ]
  },
  {
   "cell_type": "code",
   "execution_count": 3,
   "id": "ea960ead",
   "metadata": {},
   "outputs": [
    {
     "name": "stdout",
     "output_type": "stream",
     "text": [
      "welcome to world of python  \n",
      "good day\n"
     ]
    }
   ],
   "source": [
    "#Functions with argument\n",
    "def hello():\n",
    "    print(\"welcome to world of python  \")\n",
    "    print(\"good day\")\n",
    "hello()"
   ]
  },
  {
   "cell_type": "code",
   "execution_count": 4,
   "id": "d30fe42b",
   "metadata": {},
   "outputs": [
    {
     "name": "stdout",
     "output_type": "stream",
     "text": [
      "The result is :  300\n"
     ]
    }
   ],
   "source": [
    "#Creating a function without arguments and compute result for it\n",
    "def function():\n",
    "    num1=100\n",
    "    num2=200\n",
    "    print(\"The result is : \",num1+num2)\n",
    "function()"
   ]
  },
  {
   "cell_type": "code",
   "execution_count": 5,
   "id": "f7ad33ba",
   "metadata": {},
   "outputs": [
    {
     "name": "stdout",
     "output_type": "stream",
     "text": [
      "7\n",
      "21\n",
      "35\n"
     ]
    }
   ],
   "source": [
    "# Creating a function with arguments and use for loop\n",
    "def function2():\n",
    "    for num in range(1,6,2):\n",
    "        print(num*7)\n",
    "function2()"
   ]
  },
  {
   "cell_type": "code",
   "execution_count": 12,
   "id": "580e0822",
   "metadata": {},
   "outputs": [
    {
     "name": "stdout",
     "output_type": "stream",
     "text": [
      "Hey! lets calculate Area of shapes, Which one you wanna try ? \n",
      "Press 1 Circle\n",
      "Press 2 Rectangle\n",
      "Press 3 Square\n",
      "Press 4 Triangle\n",
      "9\n",
      "invalid\n"
     ]
    }
   ],
   "source": [
    "def Circle():\n",
    "   \n",
    "    r=float(input(\"enter the radius: \"))\n",
    "    print(\"Area of circle with Radius \",r,\"is : \",3.14*r*r)\n",
    "def Rectangle():\n",
    "    l=float(input(\"enter the length\"))\n",
    "    b=float(input(\"enter the breadth\"))\n",
    "    print(\"Area of rectangle with length \",l,\"breadth\",b,\"is : \",l*b)\n",
    "def Square():\n",
    "    s=input(\"enter the side: \")\n",
    "    print(\"Area of square with side \",r,\"is : \",s*s)\n",
    "def Triangle():\n",
    "    b=float(input(\"enter the base\"))\n",
    "    h=float(input(\"enter the height\"))\n",
    "    print(\"Area of triangle with base \",b,\"height\",h,\"is : \",0.5*b*h)\n",
    "\n",
    "print(\"Hey! lets calculate Area of shapes, Which one you wanna try ? \")\n",
    "ch=int(input(\"Press 1 Circle\\nPress 2 Rectangle\\nPress 3 Square\\nPress 4 Triangle\\n\"))\n",
    "try:\n",
    "    if ch<=0 or ch>4:\n",
    "        raise ValueError()\n",
    "    if(ch==1):\n",
    "        Circle()\n",
    "    elif(ch==2):\n",
    "        Rectangle()\n",
    "    elif(ch==3):\n",
    "        Square()\n",
    "    else:\n",
    "        Triangle()\n",
    "except ValueError:\n",
    "        print(\"invalid\")\n",
    "\n"
   ]
  },
  {
   "cell_type": "code",
   "execution_count": null,
   "id": "09e5d855",
   "metadata": {},
   "outputs": [],
   "source": []
  }
 ],
 "metadata": {
  "kernelspec": {
   "display_name": "Python 3 (ipykernel)",
   "language": "python",
   "name": "python3"
  },
  "language_info": {
   "codemirror_mode": {
    "name": "ipython",
    "version": 3
   },
   "file_extension": ".py",
   "mimetype": "text/x-python",
   "name": "python",
   "nbconvert_exporter": "python",
   "pygments_lexer": "ipython3",
   "version": "3.9.12"
  }
 },
 "nbformat": 4,
 "nbformat_minor": 5
}
