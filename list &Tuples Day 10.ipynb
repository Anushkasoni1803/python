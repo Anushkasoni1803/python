{
 "cells": [
  {
   "cell_type": "code",
   "execution_count": 1,
   "id": "3d1beb89",
   "metadata": {},
   "outputs": [
    {
     "name": "stdout",
     "output_type": "stream",
     "text": [
      "range(0, 5)\n"
     ]
    }
   ],
   "source": [
    "a=range(0,5)\n",
    "print(a)"
   ]
  },
  {
   "cell_type": "code",
   "execution_count": 7,
   "id": "ff6f8b41",
   "metadata": {},
   "outputs": [],
   "source": [
    "lst=list(range(-3,5))"
   ]
  },
  {
   "cell_type": "code",
   "execution_count": 8,
   "id": "1883e279",
   "metadata": {},
   "outputs": [
    {
     "data": {
      "text/plain": [
       "[-3, -2, -1, 0, 1, 2, 3, 4]"
      ]
     },
     "execution_count": 8,
     "metadata": {},
     "output_type": "execute_result"
    }
   ],
   "source": [
    "lst"
   ]
  },
  {
   "cell_type": "code",
   "execution_count": 9,
   "id": "25990e3c",
   "metadata": {},
   "outputs": [],
   "source": [
    "lst1=list(range(30,-10,-2))"
   ]
  },
  {
   "cell_type": "code",
   "execution_count": 10,
   "id": "a3786dbf",
   "metadata": {},
   "outputs": [
    {
     "data": {
      "text/plain": [
       "[30, 28, 26, 24, 22, 20, 18, 16, 14, 12, 10, 8, 6, 4, 2, 0, -2, -4, -6, -8]"
      ]
     },
     "execution_count": 10,
     "metadata": {},
     "output_type": "execute_result"
    }
   ],
   "source": [
    "lst1"
   ]
  },
  {
   "cell_type": "code",
   "execution_count": 11,
   "id": "3e356c24",
   "metadata": {},
   "outputs": [
    {
     "data": {
      "text/plain": [
       "30"
      ]
     },
     "execution_count": 11,
     "metadata": {},
     "output_type": "execute_result"
    }
   ],
   "source": [
    "max(lst1)"
   ]
  },
  {
   "cell_type": "code",
   "execution_count": 53,
   "id": "13db6029",
   "metadata": {},
   "outputs": [],
   "source": [
    "lst2=[4,8,3.5,75,178,'anu',14,69,'kshdnsn']\n",
    "lst3=[1,5,8,99,23,11,34,67,88,88,90,6,7,8,9,3,23,45,67]"
   ]
  },
  {
   "cell_type": "code",
   "execution_count": 54,
   "id": "259d84ba",
   "metadata": {},
   "outputs": [
    {
     "data": {
      "text/plain": [
       "99"
      ]
     },
     "execution_count": 54,
     "metadata": {},
     "output_type": "execute_result"
    }
   ],
   "source": [
    "max(lst3)"
   ]
  },
  {
   "cell_type": "code",
   "execution_count": 55,
   "id": "85e80a48",
   "metadata": {},
   "outputs": [
    {
     "data": {
      "text/plain": [
       "19"
      ]
     },
     "execution_count": 55,
     "metadata": {},
     "output_type": "execute_result"
    }
   ],
   "source": [
    "len(lst3)"
   ]
  },
  {
   "cell_type": "code",
   "execution_count": 56,
   "id": "e2b3217b",
   "metadata": {},
   "outputs": [
    {
     "data": {
      "text/plain": [
       "2"
      ]
     },
     "execution_count": 56,
     "metadata": {},
     "output_type": "execute_result"
    }
   ],
   "source": [
    "lst3.count(88)"
   ]
  },
  {
   "cell_type": "code",
   "execution_count": 57,
   "id": "03256f8b",
   "metadata": {},
   "outputs": [
    {
     "data": {
      "text/plain": [
       "1"
      ]
     },
     "execution_count": 57,
     "metadata": {},
     "output_type": "execute_result"
    }
   ],
   "source": [
    "lst3.index(5)"
   ]
  },
  {
   "cell_type": "code",
   "execution_count": 58,
   "id": "25094c32",
   "metadata": {},
   "outputs": [
    {
     "data": {
      "text/plain": [
       "67"
      ]
     },
     "execution_count": 58,
     "metadata": {},
     "output_type": "execute_result"
    }
   ],
   "source": [
    "lst3.pop()"
   ]
  },
  {
   "cell_type": "code",
   "execution_count": 59,
   "id": "6b2372c0",
   "metadata": {},
   "outputs": [],
   "source": [
    "lst3.remove(8)"
   ]
  },
  {
   "cell_type": "code",
   "execution_count": 60,
   "id": "c2c43434",
   "metadata": {},
   "outputs": [
    {
     "data": {
      "text/plain": [
       "[1, 5, 99, 23, 11, 34, 67, 88, 88, 90, 6, 7, 8, 9, 3, 23, 45]"
      ]
     },
     "execution_count": 60,
     "metadata": {},
     "output_type": "execute_result"
    }
   ],
   "source": [
    "lst3"
   ]
  },
  {
   "cell_type": "code",
   "execution_count": 61,
   "id": "bf6832fc",
   "metadata": {},
   "outputs": [
    {
     "data": {
      "text/plain": [
       "99"
      ]
     },
     "execution_count": 61,
     "metadata": {},
     "output_type": "execute_result"
    }
   ],
   "source": [
    "lst3.pop(2)"
   ]
  },
  {
   "cell_type": "code",
   "execution_count": 62,
   "id": "157ccfc7",
   "metadata": {},
   "outputs": [
    {
     "data": {
      "text/plain": [
       "[1, 5, 23, 11, 34, 67, 88, 88, 90, 6, 7, 8, 9, 3, 23, 45]"
      ]
     },
     "execution_count": 62,
     "metadata": {},
     "output_type": "execute_result"
    }
   ],
   "source": [
    "lst3"
   ]
  },
  {
   "cell_type": "code",
   "execution_count": 63,
   "id": "7ab0f210",
   "metadata": {},
   "outputs": [],
   "source": [
    "lst3.insert(3,90)"
   ]
  },
  {
   "cell_type": "code",
   "execution_count": 64,
   "id": "57fb5f10",
   "metadata": {},
   "outputs": [
    {
     "data": {
      "text/plain": [
       "[1, 5, 23, 90, 11, 34, 67, 88, 88, 90, 6, 7, 8, 9, 3, 23, 45]"
      ]
     },
     "execution_count": 64,
     "metadata": {},
     "output_type": "execute_result"
    }
   ],
   "source": [
    "lst3"
   ]
  },
  {
   "cell_type": "code",
   "execution_count": 65,
   "id": "de94576d",
   "metadata": {},
   "outputs": [],
   "source": [
    "lst3.append(23)"
   ]
  },
  {
   "cell_type": "code",
   "execution_count": 66,
   "id": "d59b2c52",
   "metadata": {},
   "outputs": [
    {
     "data": {
      "text/plain": [
       "[1, 5, 23, 90, 11, 34, 67, 88, 88, 90, 6, 7, 8, 9, 3, 23, 45, 23]"
      ]
     },
     "execution_count": 66,
     "metadata": {},
     "output_type": "execute_result"
    }
   ],
   "source": [
    "lst3"
   ]
  },
  {
   "cell_type": "code",
   "execution_count": 67,
   "id": "e728ceb1",
   "metadata": {},
   "outputs": [],
   "source": [
    "lst3.sort()"
   ]
  },
  {
   "cell_type": "code",
   "execution_count": 68,
   "id": "083246d8",
   "metadata": {},
   "outputs": [
    {
     "data": {
      "text/plain": [
       "[1, 3, 5, 6, 7, 8, 9, 11, 23, 23, 23, 34, 45, 67, 88, 88, 90, 90]"
      ]
     },
     "execution_count": 68,
     "metadata": {},
     "output_type": "execute_result"
    }
   ],
   "source": [
    "lst3"
   ]
  },
  {
   "cell_type": "code",
   "execution_count": 80,
   "id": "600b5cd4",
   "metadata": {},
   "outputs": [],
   "source": [
    "lst3.extend('555')"
   ]
  },
  {
   "cell_type": "code",
   "execution_count": 81,
   "id": "8a3c411f",
   "metadata": {},
   "outputs": [
    {
     "name": "stdout",
     "output_type": "stream",
     "text": [
      "[1, 3, 5, 6, 7, 8, 9, 11, 23, 23, 23, 34, 45, 67, 88, 88, 90, 90, -3, -2, -1, 0, 1, 2, 3, 23, 4, 8, 3.5, 75, 178, 'anu', 14, 69, 'kshdnsn', 's', 't', 'r', 'f', 'i', 'v', 'e', '5', '5', '5']\n"
     ]
    }
   ],
   "source": [
    "print(lst3)"
   ]
  },
  {
   "cell_type": "code",
   "execution_count": 82,
   "id": "2be81328",
   "metadata": {},
   "outputs": [],
   "source": [
    "lst4=[['anushka','asha'],14,65,'answe']"
   ]
  },
  {
   "cell_type": "code",
   "execution_count": 85,
   "id": "b169620f",
   "metadata": {},
   "outputs": [],
   "source": [
    "lst4[3]='145'"
   ]
  },
  {
   "cell_type": "code",
   "execution_count": 86,
   "id": "43db0a05",
   "metadata": {},
   "outputs": [
    {
     "data": {
      "text/plain": [
       "[['anushka', 'asha'], 14, 65, '145']"
      ]
     },
     "execution_count": 86,
     "metadata": {},
     "output_type": "execute_result"
    }
   ],
   "source": [
    "lst4"
   ]
  },
  {
   "cell_type": "code",
   "execution_count": 87,
   "id": "d2a3f4e3",
   "metadata": {},
   "outputs": [],
   "source": [
    "lst4[0]=23"
   ]
  },
  {
   "cell_type": "code",
   "execution_count": 88,
   "id": "83403253",
   "metadata": {},
   "outputs": [
    {
     "data": {
      "text/plain": [
       "[23, 14, 65, '145']"
      ]
     },
     "execution_count": 88,
     "metadata": {},
     "output_type": "execute_result"
    }
   ],
   "source": [
    "lst4"
   ]
  },
  {
   "cell_type": "code",
   "execution_count": 89,
   "id": "dfdcdf03",
   "metadata": {},
   "outputs": [],
   "source": [
    "lst4[1:3]='hy'"
   ]
  },
  {
   "cell_type": "code",
   "execution_count": 90,
   "id": "054b26e9",
   "metadata": {},
   "outputs": [
    {
     "data": {
      "text/plain": [
       "[23, 'h', 'y', '145']"
      ]
     },
     "execution_count": 90,
     "metadata": {},
     "output_type": "execute_result"
    }
   ],
   "source": [
    "lst4"
   ]
  },
  {
   "cell_type": "code",
   "execution_count": 96,
   "id": "8fa0bd85",
   "metadata": {},
   "outputs": [],
   "source": [
    "lst5=[[12,567],'java','12',35,74,'C']\n"
   ]
  },
  {
   "cell_type": "code",
   "execution_count": 97,
   "id": "6ebff9a8",
   "metadata": {},
   "outputs": [],
   "source": [
    "lst5[2:4]=['MP','UP',\"AP\"]"
   ]
  },
  {
   "cell_type": "code",
   "execution_count": 98,
   "id": "33548221",
   "metadata": {},
   "outputs": [
    {
     "data": {
      "text/plain": [
       "[[12, 567], 'java', 'MP', 'UP', 'AP', 74, 'C']"
      ]
     },
     "execution_count": 98,
     "metadata": {},
     "output_type": "execute_result"
    }
   ],
   "source": [
    "lst5"
   ]
  },
  {
   "cell_type": "code",
   "execution_count": 136,
   "id": "804c5fee",
   "metadata": {},
   "outputs": [
    {
     "name": "stdout",
     "output_type": "stream",
     "text": [
      "How many countries do you want to add 3\n",
      "enter the name of country india\n",
      "enter the name of country russia\n",
      "enter the name of country pak\n"
     ]
    },
    {
     "data": {
      "text/plain": [
       "['india', 'russia', 'pak']"
      ]
     },
     "execution_count": 136,
     "metadata": {},
     "output_type": "execute_result"
    }
   ],
   "source": [
    "nlst=[]\n",
    "num=int(input(\"How many countries do you want to add \"))\n",
    "for i in range(1,num+1):\n",
    "    name=input(\"enter the name of country \")\n",
    "    nlst.append(name)\n",
    "    \n",
    "nlst"
   ]
  },
  {
   "cell_type": "code",
   "execution_count": 134,
   "id": "59f78c2c",
   "metadata": {},
   "outputs": [
    {
     "name": "stdout",
     "output_type": "stream",
     "text": [
      "uk,india,russia\n"
     ]
    }
   ],
   "source": [
    "print(\",\".join(nlst))"
   ]
  },
  {
   "cell_type": "code",
   "execution_count": 126,
   "id": "ef632557",
   "metadata": {},
   "outputs": [
    {
     "data": {
      "text/plain": [
       "list"
      ]
     },
     "execution_count": 126,
     "metadata": {},
     "output_type": "execute_result"
    }
   ],
   "source": [
    "type(nlst)"
   ]
  },
  {
   "cell_type": "code",
   "execution_count": null,
   "id": "aeb68ddb",
   "metadata": {},
   "outputs": [],
   "source": []
  }
 ],
 "metadata": {
  "kernelspec": {
   "display_name": "Python 3 (ipykernel)",
   "language": "python",
   "name": "python3"
  },
  "language_info": {
   "codemirror_mode": {
    "name": "ipython",
    "version": 3
   },
   "file_extension": ".py",
   "mimetype": "text/x-python",
   "name": "python",
   "nbconvert_exporter": "python",
   "pygments_lexer": "ipython3",
   "version": "3.9.12"
  }
 },
 "nbformat": 4,
 "nbformat_minor": 5
}
