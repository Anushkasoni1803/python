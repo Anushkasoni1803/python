{
 "cells": [
  {
   "cell_type": "code",
   "execution_count": 4,
   "metadata": {},
   "outputs": [
    {
     "name": "stdout",
     "output_type": "stream",
     "text": [
      "first num: 1\n",
      "second num: 2\n",
      "sum is: 3\n"
     ]
    }
   ],
   "source": [
    "#ADD AND OPERATOR\n",
    "\n",
    "num1=int(input(\"first num: \"))\n",
    "num2=int(input(\"second num: \"))\n",
    "final=num1\n",
    "final+=num2\n",
    "print(\"sum is:\",final)"
   ]
  },
  {
   "cell_type": "code",
   "execution_count": 5,
   "metadata": {},
   "outputs": [
    {
     "name": "stdout",
     "output_type": "stream",
     "text": [
      "first num: 1\n",
      "second num: 3\n",
      "subtracted ans is: -2\n"
     ]
    }
   ],
   "source": [
    "#Subtract AND OPERATOR\n",
    "\n",
    "num1=int(input(\"first num: \"))\n",
    "num2=int(input(\"second num: \"))\n",
    "final=num1\n",
    "final-=num2\n",
    "print(\"subtracted ans is:\",final)"
   ]
  },
  {
   "cell_type": "code",
   "execution_count": 9,
   "metadata": {},
   "outputs": [
    {
     "name": "stdout",
     "output_type": "stream",
     "text": [
      "enter first13\n",
      "enter sec6\n",
      "2\n",
      "2.1666666666666665\n"
     ]
    }
   ],
   "source": [
    "a=int(input(\"enter first\"))\n",
    "b=int(input(\"enter sec\"))\n",
    "c=a//b\n",
    "d=a/b\n",
    "print(c)\n",
    "print(d)"
   ]
  },
  {
   "cell_type": "code",
   "execution_count": 1,
   "metadata": {},
   "outputs": [
    {
     "name": "stdout",
     "output_type": "stream",
     "text": [
      "use of and logical operators : False\n",
      "use of or logical operators : True\n",
      "use of or logical operators : True\n"
     ]
    }
   ],
   "source": [
    "#Logical Operators\n",
    "\n",
    "a,b,c=99,67,99\n",
    "\n",
    "print(\"use of and logical operators :\",a>b & a>c)\n",
    "print(\"use of or logical operators :\",a>b or a>c)\n",
    "print(\"use of or logical operators :\",not a>c)"
   ]
  },
  {
   "cell_type": "code",
   "execution_count": 22,
   "metadata": {},
   "outputs": [
    {
     "name": "stdout",
     "output_type": "stream",
     "text": [
      "use of AND operator on boolean values False\n",
      "use of OR operator on boolean values True\n"
     ]
    }
   ],
   "source": [
    "#logical operators using boolean values\n",
    "\n",
    "a=True\n",
    "b=False\n",
    "print(\"use of AND operator on boolean values\",a and b)\n",
    "print(\"use of OR operator on boolean values\",a or b)"
   ]
  },
  {
   "cell_type": "code",
   "execution_count": null,
   "metadata": {},
   "outputs": [],
   "source": [
    "#OPERATOR PRECEDENCE\n",
    "\n",
    "Operator        details\n",
    "\n",
    "()               paranthesis\n",
    "**                exponential\n",
    "/\n",
    "*\n",
    "//\n",
    "%                  remainder\n",
    "+                  addition\n",
    "-\n",
    "\n",
    ">,<,>=,<=,!=\n",
    "\n",
    "==,+=,-=,*=,**=,/=,//=\n",
    "\n",
    "not or and\n",
    "\n"
   ]
  },
  {
   "cell_type": "code",
   "execution_count": 30,
   "metadata": {},
   "outputs": [
    {
     "name": "stdout",
     "output_type": "stream",
     "text": [
      "37500\n",
      "5200\n",
      "True\n"
     ]
    }
   ],
   "source": [
    "#program to show the precedence of operators\n",
    "p,q,r=200,50,100\n",
    "print((p+q)*(q+r))\n",
    "print(p+q*r)\n",
    "print(p>q and q<r)"
   ]
  },
  {
   "cell_type": "code",
   "execution_count": 31,
   "metadata": {},
   "outputs": [
    {
     "data": {
      "text/plain": [
       "'A module is a file containg definations ,statements, functions,classes and variables. It helps to logically organise the \\ncodes, grouping of related code into a module, helps to use the code efficiently, each module has a different name which is used\\nas the global symbol in accessing all the functions defined in the module. It has a rich library than hundred standard modules\\nand this list can be seened from python.org some common used modules and functions they include are calender, OS,random,\\nre(regualr expresion),math,stats,string,time,etc.. \\n\\nLibraries in python:\\nIt has a rich collection of libraries though by many authors. Each library has a huge collection of functions and subpackages\\nacc to requirement, the user can access library or specific functions using import statement. some common libraries are Numpy\\n(it is the fundamental library in python arround which the scientific computation stack is build, it has many high leval \\nmathematical functions for large multi dimensional arrarys and metrics), pandas(the library helps to work with labeled and \\nrellational data, it is primarly used for data clealing, data extraction,data processing, data aggregation and visualisation\\nIt is like a spreadsheet in python)'"
      ]
     },
     "execution_count": 31,
     "metadata": {},
     "output_type": "execute_result"
    }
   ],
   "source": [
    "'''A module is a file containg definations ,statements, functions,classes and variables. It helps to logically organise the \n",
    "codes, grouping of related code into a module, helps to use the code efficiently, each module has a different name which is used\n",
    "as the global symbol in accessing all the functions defined in the module. It has a rich library than hundred standard modules\n",
    "and this list can be seened from python.org some common used modules and functions they include are calender, OS,random,\n",
    "re(regualr expresion),math,stats,string,time,etc.. \n",
    "\n",
    "Libraries in python:\n",
    "It has a rich collection of libraries though by many authors. Each library has a huge collection of functions and subpackages\n",
    "acc to requirement, the user can access library or specific functions using import statement. some common libraries are Numpy\n",
    "(it is the fundamental library in python arround which the scientific computation stack is build, it has many high leval \n",
    "mathematical functions for large multi dimensional arrarys and metrics), pandas(the library helps to work with labeled and \n",
    "rellational data, it is primarly used for data clealing, data extraction,data processing, data aggregation and visualisation\n",
    "It is like a spreadsheet in python)'''"
   ]
  },
  {
   "cell_type": "markdown",
   "metadata": {},
   "source": []
  }
 ],
 "metadata": {
  "kernelspec": {
   "display_name": "Python 3 (ipykernel)",
   "language": "python",
   "name": "python3"
  },
  "language_info": {
   "codemirror_mode": {
    "name": "ipython",
    "version": 3
   },
   "file_extension": ".py",
   "mimetype": "text/x-python",
   "name": "python",
   "nbconvert_exporter": "python",
   "pygments_lexer": "ipython3",
   "version": "3.9.12"
  }
 },
 "nbformat": 4,
 "nbformat_minor": 4
}
