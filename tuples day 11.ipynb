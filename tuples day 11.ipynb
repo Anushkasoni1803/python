{
 "cells": [
  {
   "cell_type": "code",
   "execution_count": 4,
   "id": "e926c091",
   "metadata": {},
   "outputs": [],
   "source": [
    "tup=4,8,9,10,85,74,98,98,74"
   ]
  },
  {
   "cell_type": "code",
   "execution_count": 5,
   "id": "70f26bf6",
   "metadata": {},
   "outputs": [
    {
     "data": {
      "text/plain": [
       "tuple"
      ]
     },
     "execution_count": 5,
     "metadata": {},
     "output_type": "execute_result"
    }
   ],
   "source": [
    "type(tup)"
   ]
  },
  {
   "cell_type": "code",
   "execution_count": 7,
   "id": "9e6e10bc",
   "metadata": {},
   "outputs": [
    {
     "data": {
      "text/plain": [
       "2"
      ]
     },
     "execution_count": 7,
     "metadata": {},
     "output_type": "execute_result"
    }
   ],
   "source": [
    "tup.count(74)"
   ]
  },
  {
   "cell_type": "code",
   "execution_count": 8,
   "id": "f744ecb0",
   "metadata": {},
   "outputs": [
    {
     "data": {
      "text/plain": [
       "[4, 8, 9, 10, 74, 74, 85, 98, 98]"
      ]
     },
     "execution_count": 8,
     "metadata": {},
     "output_type": "execute_result"
    }
   ],
   "source": [
    "sorted(tup)"
   ]
  },
  {
   "cell_type": "code",
   "execution_count": 9,
   "id": "a62dfc83",
   "metadata": {},
   "outputs": [
    {
     "data": {
      "text/plain": [
       "98"
      ]
     },
     "execution_count": 9,
     "metadata": {},
     "output_type": "execute_result"
    }
   ],
   "source": [
    "max(tup)"
   ]
  },
  {
   "cell_type": "code",
   "execution_count": 10,
   "id": "294660dd",
   "metadata": {},
   "outputs": [
    {
     "data": {
      "text/plain": [
       "(4, 8, 9)"
      ]
     },
     "execution_count": 10,
     "metadata": {},
     "output_type": "execute_result"
    }
   ],
   "source": [
    "tup[:3]"
   ]
  },
  {
   "cell_type": "code",
   "execution_count": 11,
   "id": "037761ef",
   "metadata": {},
   "outputs": [
    {
     "data": {
      "text/plain": [
       "(9, 10)"
      ]
     },
     "execution_count": 11,
     "metadata": {},
     "output_type": "execute_result"
    }
   ],
   "source": [
    "tup[2:4]"
   ]
  },
  {
   "cell_type": "code",
   "execution_count": 12,
   "id": "b11d1e94",
   "metadata": {},
   "outputs": [
    {
     "data": {
      "text/plain": [
       "(4, 8, 9, 10, 85, 74, 98, 98, 74)"
      ]
     },
     "execution_count": 12,
     "metadata": {},
     "output_type": "execute_result"
    }
   ],
   "source": [
    "tup[:]"
   ]
  },
  {
   "cell_type": "code",
   "execution_count": 13,
   "id": "672e3a3e",
   "metadata": {},
   "outputs": [
    {
     "data": {
      "text/plain": [
       "(4, 8, 9, 10)"
      ]
     },
     "execution_count": 13,
     "metadata": {},
     "output_type": "execute_result"
    }
   ],
   "source": [
    "tup[:4]"
   ]
  },
  {
   "cell_type": "code",
   "execution_count": 19,
   "id": "1f06a8d7",
   "metadata": {},
   "outputs": [
    {
     "data": {
      "text/plain": [
       "(4, 8, 9, 10, 85, 74, 98, 98, 74)"
      ]
     },
     "execution_count": 19,
     "metadata": {},
     "output_type": "execute_result"
    }
   ],
   "source": [
    "tup"
   ]
  },
  {
   "cell_type": "code",
   "execution_count": 16,
   "id": "d4cd1c6b",
   "metadata": {},
   "outputs": [
    {
     "data": {
      "text/plain": [
       "(4, 85, 74)"
      ]
     },
     "execution_count": 16,
     "metadata": {},
     "output_type": "execute_result"
    }
   ],
   "source": [
    "tup[::4]"
   ]
  },
  {
   "cell_type": "code",
   "execution_count": 18,
   "id": "bffec070",
   "metadata": {},
   "outputs": [
    {
     "data": {
      "text/plain": [
       "(4, 9, 85, 98, 74)"
      ]
     },
     "execution_count": 18,
     "metadata": {},
     "output_type": "execute_result"
    }
   ],
   "source": [
    "tup[::2]"
   ]
  },
  {
   "cell_type": "code",
   "execution_count": 14,
   "id": "2858235c",
   "metadata": {},
   "outputs": [
    {
     "data": {
      "text/plain": [
       "9"
      ]
     },
     "execution_count": 14,
     "metadata": {},
     "output_type": "execute_result"
    }
   ],
   "source": [
    "len(tup)"
   ]
  },
  {
   "cell_type": "code",
   "execution_count": 15,
   "id": "2bab90de",
   "metadata": {},
   "outputs": [
    {
     "data": {
      "text/plain": [
       "460"
      ]
     },
     "execution_count": 15,
     "metadata": {},
     "output_type": "execute_result"
    }
   ],
   "source": [
    "sum(tup)"
   ]
  },
  {
   "cell_type": "code",
   "execution_count": 20,
   "id": "b07e4c7b",
   "metadata": {},
   "outputs": [],
   "source": [
    "#empty tuple\n",
    "tup3=()"
   ]
  },
  {
   "cell_type": "code",
   "execution_count": 21,
   "id": "92880701",
   "metadata": {},
   "outputs": [
    {
     "data": {
      "text/plain": [
       "tuple"
      ]
     },
     "execution_count": 21,
     "metadata": {},
     "output_type": "execute_result"
    }
   ],
   "source": [
    "type(tup3)"
   ]
  },
  {
   "cell_type": "code",
   "execution_count": 22,
   "id": "eb198da3",
   "metadata": {},
   "outputs": [
    {
     "data": {
      "text/plain": [
       "()"
      ]
     },
     "execution_count": 22,
     "metadata": {},
     "output_type": "execute_result"
    }
   ],
   "source": [
    "tup3"
   ]
  },
  {
   "cell_type": "code",
   "execution_count": 25,
   "id": "afe05644",
   "metadata": {},
   "outputs": [],
   "source": [
    "tup=tuple(range(5,10,2))"
   ]
  },
  {
   "cell_type": "code",
   "execution_count": 26,
   "id": "5ea9581c",
   "metadata": {},
   "outputs": [
    {
     "data": {
      "text/plain": [
       "(5, 7, 9)"
      ]
     },
     "execution_count": 26,
     "metadata": {},
     "output_type": "execute_result"
    }
   ],
   "source": [
    "tup"
   ]
  },
  {
   "cell_type": "code",
   "execution_count": 27,
   "id": "2384915f",
   "metadata": {},
   "outputs": [],
   "source": [
    "tup=tuple(range(5,10))"
   ]
  },
  {
   "cell_type": "code",
   "execution_count": 28,
   "id": "f6fef36a",
   "metadata": {},
   "outputs": [
    {
     "data": {
      "text/plain": [
       "(5, 6, 7, 8, 9)"
      ]
     },
     "execution_count": 28,
     "metadata": {},
     "output_type": "execute_result"
    }
   ],
   "source": [
    "tup"
   ]
  },
  {
   "cell_type": "code",
   "execution_count": 31,
   "id": "c604456d",
   "metadata": {},
   "outputs": [],
   "source": [
    "tup=range(5,10,4)"
   ]
  },
  {
   "cell_type": "code",
   "execution_count": 32,
   "id": "6a89b162",
   "metadata": {},
   "outputs": [
    {
     "data": {
      "text/plain": [
       "range(5, 10, 4)"
      ]
     },
     "execution_count": 32,
     "metadata": {},
     "output_type": "execute_result"
    }
   ],
   "source": [
    "tup"
   ]
  },
  {
   "cell_type": "code",
   "execution_count": 33,
   "id": "2cdea469",
   "metadata": {},
   "outputs": [],
   "source": [
    "#convert list into tuple\n",
    "lst=[2,4,5,7,9,0]\n",
    "mytup=tuple(lst)"
   ]
  },
  {
   "cell_type": "code",
   "execution_count": 34,
   "id": "d7655adb",
   "metadata": {},
   "outputs": [
    {
     "data": {
      "text/plain": [
       "(2, 4, 5, 7, 9, 0)"
      ]
     },
     "execution_count": 34,
     "metadata": {},
     "output_type": "execute_result"
    }
   ],
   "source": [
    "mytup"
   ]
  },
  {
   "cell_type": "code",
   "execution_count": 37,
   "id": "b98e1c8d",
   "metadata": {},
   "outputs": [],
   "source": [
    "tuple=7,8,9"
   ]
  },
  {
   "cell_type": "code",
   "execution_count": 38,
   "id": "5b8bc3c8",
   "metadata": {},
   "outputs": [
    {
     "data": {
      "text/plain": [
       "(7, 8, 9)"
      ]
     },
     "execution_count": 38,
     "metadata": {},
     "output_type": "execute_result"
    }
   ],
   "source": [
    "tuple"
   ]
  },
  {
   "cell_type": "code",
   "execution_count": 40,
   "id": "f91eeb11",
   "metadata": {},
   "outputs": [
    {
     "data": {
      "text/plain": [
       "(4, 5, 6, 7, 8, 9, 8, 9, 7, 1, 2)"
      ]
     },
     "execution_count": 40,
     "metadata": {},
     "output_type": "execute_result"
    }
   ],
   "source": [
    "#tuple convatination\n",
    "tup1=4,5,6,7,8,9\n",
    "tup2=8,9,7,1,2\n",
    "tup1+tup2"
   ]
  },
  {
   "cell_type": "markdown",
   "id": "aaea71bf",
   "metadata": {},
   "source": [
    "# Accessing tuple elements\n"
   ]
  },
  {
   "cell_type": "code",
   "execution_count": 41,
   "id": "f12129ab",
   "metadata": {},
   "outputs": [],
   "source": [
    "mytuple=70.5,8.9,'hello',5,'mything'"
   ]
  },
  {
   "cell_type": "code",
   "execution_count": 43,
   "id": "14aaeaea",
   "metadata": {},
   "outputs": [
    {
     "name": "stdout",
     "output_type": "stream",
     "text": [
      "tuple elements are 1 is 70.5\n",
      "tuple elements are 2 is 8.9\n",
      "tuple elements are 3 is hello\n",
      "tuple elements are 4 is 5\n"
     ]
    }
   ],
   "source": [
    "#displaying first four elements\n",
    "for i in range(0,4):\n",
    "    print(\"tuple elements are\",i+1,\"is\",mytuple[i])"
   ]
  },
  {
   "cell_type": "code",
   "execution_count": 50,
   "id": "d2775988",
   "metadata": {},
   "outputs": [
    {
     "name": "stdout",
     "output_type": "stream",
     "text": [
      "UK\n"
     ]
    }
   ],
   "source": [
    "#nested tuple\n",
    "tup=(1,2,3,('India','US','UK'),4,(5,6),8)\n",
    "print(tup[3][2])"
   ]
  },
  {
   "cell_type": "code",
   "execution_count": 51,
   "id": "114902a3",
   "metadata": {},
   "outputs": [
    {
     "data": {
      "text/plain": [
       "(2, 3)"
      ]
     },
     "execution_count": 51,
     "metadata": {},
     "output_type": "execute_result"
    }
   ],
   "source": [
    "tup[1:3]"
   ]
  },
  {
   "cell_type": "code",
   "execution_count": 54,
   "id": "9a7c5edd",
   "metadata": {},
   "outputs": [
    {
     "ename": "TypeError",
     "evalue": "unsupported operand type(s) for +: 'int' and 'tuple'",
     "output_type": "error",
     "traceback": [
      "\u001b[1;31m---------------------------------------------------------------------------\u001b[0m",
      "\u001b[1;31mTypeError\u001b[0m                                 Traceback (most recent call last)",
      "Input \u001b[1;32mIn [54]\u001b[0m, in \u001b[0;36m<cell line: 1>\u001b[1;34m()\u001b[0m\n\u001b[1;32m----> 1\u001b[0m \u001b[38;5;28;43msum\u001b[39;49m\u001b[43m(\u001b[49m\u001b[43mtup\u001b[49m\u001b[43m)\u001b[49m\n",
      "\u001b[1;31mTypeError\u001b[0m: unsupported operand type(s) for +: 'int' and 'tuple'"
     ]
    }
   ],
   "source": [
    "#sum can only be calculated with same datatype tuple\n",
    "sum(tup)"
   ]
  },
  {
   "cell_type": "code",
   "execution_count": 5,
   "id": "e64359bf",
   "metadata": {},
   "outputs": [
    {
     "data": {
      "text/plain": [
       "21"
      ]
     },
     "execution_count": 5,
     "metadata": {},
     "output_type": "execute_result"
    }
   ],
   "source": [
    "tup3=1,2,3,4,5,6\n",
    "sum(tup3)"
   ]
  },
  {
   "cell_type": "code",
   "execution_count": 6,
   "id": "9f7d9131",
   "metadata": {},
   "outputs": [
    {
     "name": "stdout",
     "output_type": "stream",
     "text": [
      "(1, 2, 3, 4, 5, 6, 1, 2, 3, 4, 5, 6, 1, 2, 3, 4, 5, 6, 1, 2, 3, 4, 5, 6, 1, 2, 3, 4, 5, 6, 1, 2, 3, 4, 5, 6, 1, 2, 3, 4, 5, 6, 1, 2, 3, 4, 5, 6)\n"
     ]
    }
   ],
   "source": [
    "# program for repetition and determining existence in tuple\n",
    "print(tup3*8)\n"
   ]
  },
  {
   "cell_type": "code",
   "execution_count": 60,
   "id": "adeb3589",
   "metadata": {},
   "outputs": [
    {
     "data": {
      "text/plain": [
       "False"
      ]
     },
     "execution_count": 60,
     "metadata": {},
     "output_type": "execute_result"
    }
   ],
   "source": [
    "22 in tup3"
   ]
  },
  {
   "cell_type": "code",
   "execution_count": 61,
   "id": "aec3f680",
   "metadata": {},
   "outputs": [
    {
     "data": {
      "text/plain": [
       "True"
      ]
     },
     "execution_count": 61,
     "metadata": {},
     "output_type": "execute_result"
    }
   ],
   "source": [
    "22 not in tup3"
   ]
  },
  {
   "cell_type": "code",
   "execution_count": 62,
   "id": "ea276395",
   "metadata": {},
   "outputs": [
    {
     "data": {
      "text/plain": [
       "True"
      ]
     },
     "execution_count": 62,
     "metadata": {},
     "output_type": "execute_result"
    }
   ],
   "source": [
    "2 in tup3"
   ]
  },
  {
   "cell_type": "code",
   "execution_count": 63,
   "id": "dd80dcd2",
   "metadata": {},
   "outputs": [
    {
     "data": {
      "application/javascript": [
       "Jupyter.keyboard_manager.edit_shortcuts.add_shortcut('ctrl-l', {\n",
       "    help : 'Insert Input from Above',\n",
       "    help_index : 'zz',\n",
       "    handler: function(env) {\n",
       "        var cm=env.notebook.get_selected_cell().code_mirror;\n",
       "        cm.doc.replaceSelection(Jupyter.notebook.get_cell(Jupyter.notebook.get_selected_index()-1).get_text());\n",
       "        cm.execCommand('goLineEnd');\n",
       "        return false;\n",
       "    }}\n",
       ")\n"
      ],
      "text/plain": [
       "<IPython.core.display.Javascript object>"
      ]
     },
     "metadata": {},
     "output_type": "display_data"
    }
   ],
   "source": [
    "%%js\n",
    "Jupyter.keyboard_manager.edit_shortcuts.add_shortcut('ctrl-l', {\n",
    "    help : 'Insert Input from Above',\n",
    "    help_index : 'zz',\n",
    "    handler: function(env) {\n",
    "        var cm=env.notebook.get_selected_cell().code_mirror;\n",
    "        cm.doc.replaceSelection(Jupyter.notebook.get_cell(Jupyter.notebook.get_selected_index()-1).get_text());\n",
    "        cm.execCommand('goLineEnd');\n",
    "        return false;\n",
    "    }}\n",
    ")"
   ]
  },
  {
   "cell_type": "code",
   "execution_count": 65,
   "id": "24270601",
   "metadata": {},
   "outputs": [],
   "source": [
    "tup9=(10,20,30,40,1,2,3,4,5)\n",
    "min=tup9[0]\n",
    "for k in range(len(tup9)):\n",
    "    if tup9[k]<min:\n",
    "        min=tup9[k]"
   ]
  },
  {
   "cell_type": "markdown",
   "id": "d319f136",
   "metadata": {},
   "source": [
    "A unique dsa which is not available in other prog. langauges, it is considered as the king of dsa because it is the only std mapping type. Dictionaries are mutable objects like list and unlike tuples. Besides a dictionary is not necessarly an ordered collection unlike tuples and list.\n",
    "And it is imp to note here that keys should be hashable objects, while values can be arbitary . it is also imp to note here that keys of a dictionary should be unique"
   ]
  },
  {
   "cell_type": "code",
   "execution_count": 7,
   "id": "2bf2f8fa",
   "metadata": {},
   "outputs": [],
   "source": [
    "tup=9,8"
   ]
  },
  {
   "cell_type": "code",
   "execution_count": 8,
   "id": "43ec5383",
   "metadata": {},
   "outputs": [
    {
     "data": {
      "text/plain": [
       "(9, 8)"
      ]
     },
     "execution_count": 8,
     "metadata": {},
     "output_type": "execute_result"
    }
   ],
   "source": [
    "tup"
   ]
  },
  {
   "cell_type": "code",
   "execution_count": 9,
   "id": "1ce6a972",
   "metadata": {},
   "outputs": [
    {
     "data": {
      "text/plain": [
       "(9, 8, 9, 8, 9, 8, 9, 8, 9, 8, 9, 8, 9, 8, 9, 8)"
      ]
     },
     "execution_count": 9,
     "metadata": {},
     "output_type": "execute_result"
    }
   ],
   "source": [
    "tup*8"
   ]
  },
  {
   "cell_type": "code",
   "execution_count": 11,
   "id": "4800cd1f",
   "metadata": {},
   "outputs": [],
   "source": [
    "tup=4"
   ]
  },
  {
   "cell_type": "code",
   "execution_count": 12,
   "id": "0f228971",
   "metadata": {},
   "outputs": [
    {
     "data": {
      "text/plain": [
       "16"
      ]
     },
     "execution_count": 12,
     "metadata": {},
     "output_type": "execute_result"
    }
   ],
   "source": [
    "tup*4"
   ]
  },
  {
   "cell_type": "code",
   "execution_count": 13,
   "id": "f4916710",
   "metadata": {},
   "outputs": [],
   "source": [
    "import re"
   ]
  },
  {
   "cell_type": "code",
   "execution_count": 14,
   "id": "3b21620e",
   "metadata": {},
   "outputs": [
    {
     "name": "stdout",
     "output_type": "stream",
     "text": [
      "aacb\n"
     ]
    }
   ],
   "source": [
    "print(re.search('aa?cb','aacb aaccbd').group())"
   ]
  },
  {
   "cell_type": "code",
   "execution_count": 15,
   "id": "ed9c3f02",
   "metadata": {},
   "outputs": [],
   "source": [
    "def fun(arr):\n",
    "    arr=arr[::1]\n",
    "arr=[1,2,3,4,5]\n",
    "fun(arr)"
   ]
  },
  {
   "cell_type": "code",
   "execution_count": 16,
   "id": "32118e0e",
   "metadata": {},
   "outputs": [
    {
     "data": {
      "text/plain": [
       "[1, 2, 3, 4, 5]"
      ]
     },
     "execution_count": 16,
     "metadata": {},
     "output_type": "execute_result"
    }
   ],
   "source": [
    "arr"
   ]
  },
  {
   "cell_type": "code",
   "execution_count": 22,
   "id": "afb8f5da",
   "metadata": {},
   "outputs": [],
   "source": [
    "num=[23,45,22,89,78,90]"
   ]
  },
  {
   "cell_type": "code",
   "execution_count": 26,
   "id": "64b040e4",
   "metadata": {},
   "outputs": [],
   "source": [
    "num[1:4]=[10][:]"
   ]
  },
  {
   "cell_type": "code",
   "execution_count": 27,
   "id": "028a234a",
   "metadata": {},
   "outputs": [
    {
     "data": {
      "text/plain": [
       "[23, 10, 90]"
      ]
     },
     "execution_count": 27,
     "metadata": {},
     "output_type": "execute_result"
    }
   ],
   "source": [
    "num"
   ]
  },
  {
   "cell_type": "code",
   "execution_count": 28,
   "id": "f0014d42",
   "metadata": {},
   "outputs": [],
   "source": [
    "def f(x):\n",
    "    return 0 if x==0 else 2*f(x-1)+x*x"
   ]
  },
  {
   "cell_type": "code",
   "execution_count": 29,
   "id": "bdb95a3e",
   "metadata": {},
   "outputs": [
    {
     "data": {
      "text/plain": [
       "6"
      ]
     },
     "execution_count": 29,
     "metadata": {},
     "output_type": "execute_result"
    }
   ],
   "source": [
    "f(2)"
   ]
  },
  {
   "cell_type": "code",
   "execution_count": null,
   "id": "a20164bb",
   "metadata": {},
   "outputs": [],
   "source": []
  }
 ],
 "metadata": {
  "kernelspec": {
   "display_name": "Python 3 (ipykernel)",
   "language": "python",
   "name": "python3"
  },
  "language_info": {
   "codemirror_mode": {
    "name": "ipython",
    "version": 3
   },
   "file_extension": ".py",
   "mimetype": "text/x-python",
   "name": "python",
   "nbconvert_exporter": "python",
   "pygments_lexer": "ipython3",
   "version": "3.9.12"
  }
 },
 "nbformat": 4,
 "nbformat_minor": 5
}
