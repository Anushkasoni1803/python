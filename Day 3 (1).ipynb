{
 "cells": [
  {
   "cell_type": "code",
   "execution_count": 2,
   "metadata": {},
   "outputs": [
    {
     "name": "stdout",
     "output_type": "stream",
     "text": [
      "your name: anushka\n",
      "hello anushka\n"
     ]
    }
   ],
   "source": [
    "a=input(\"your name: \")\n",
    "print(\"hello\",a)"
   ]
  },
  {
   "cell_type": "code",
   "execution_count": 20,
   "metadata": {},
   "outputs": [
    {
     "name": "stdout",
     "output_type": "stream",
     "text": [
      "Hi\\neveryone\n"
     ]
    }
   ],
   "source": [
    "s=r'Hi\\neveryone'\n",
    "print(s)"
   ]
  },
  {
   "cell_type": "code",
   "execution_count": 18,
   "metadata": {},
   "outputs": [
    {
     "name": "stdout",
     "output_type": "stream",
     "text": [
      "depali\r\n"
     ]
    }
   ],
   "source": [
    "print(\"depali\\r\")"
   ]
  },
  {
   "cell_type": "code",
   "execution_count": 22,
   "metadata": {},
   "outputs": [
    {
     "name": "stdout",
     "output_type": "stream",
     "text": [
      "enter first no.:9.876\n",
      "enter first no.:6.678\n",
      "16.554\n"
     ]
    }
   ],
   "source": [
    "a=float(input(\"enter first no.:\"))\n",
    "b=float(input(\"enter first no.:\"))\n",
    "c=a+b\n",
    "print(c)"
   ]
  },
  {
   "cell_type": "code",
   "execution_count": 26,
   "metadata": {},
   "outputs": [
    {
     "name": "stdout",
     "output_type": "stream",
     "text": [
      "enter the side of square:12\n",
      "the area of the square whose side 12.0 is 144.0\n"
     ]
    }
   ],
   "source": [
    "#find the area of square\n",
    "\n",
    "side=float(input(\"enter the side of square:\"))\n",
    "area=side*side\n",
    "print(\"the area of the square whose side\",side,\"is\",area)"
   ]
  },
  {
   "cell_type": "code",
   "execution_count": 43,
   "metadata": {},
   "outputs": [
    {
     "name": "stdout",
     "output_type": "stream",
     "text": [
      "enter value of any data type :\"anu\"\n",
      "anu\n"
     ]
    },
    {
     "data": {
      "text/plain": [
       "str"
      ]
     },
     "execution_count": 43,
     "metadata": {},
     "output_type": "execute_result"
    }
   ],
   "source": [
    "#eval function- takes input for all datatype \n",
    "\n",
    "fun=eval(input(\"enter value of any data type :\"))\n",
    "print(fun)\n",
    "type(fun)\n",
    "\n",
    "#note: for string input write i/p in inverted comas. eg:\"anu\""
   ]
  },
  {
   "cell_type": "code",
   "execution_count": 51,
   "metadata": {},
   "outputs": [
    {
     "name": "stdout",
     "output_type": "stream",
     "text": [
      "enter three variables: 1,2,3\n",
      "6\n"
     ]
    },
    {
     "data": {
      "text/plain": [
       "int"
      ]
     },
     "execution_count": 51,
     "metadata": {},
     "output_type": "execute_result"
    }
   ],
   "source": [
    "#program to show use of accepting multiple inputs using eval function\n",
    "#only eval can take multiple intergers\n",
    "\n",
    "a,b,c=eval(input(\"enter three variables: \"))\n",
    "d=a+b+c\n",
    "print(d)\n",
    "type(d)"
   ]
  },
  {
   "cell_type": "code",
   "execution_count": 58,
   "metadata": {},
   "outputs": [
    {
     "name": "stdout",
     "output_type": "stream",
     "text": [
      "enter first number: 50\n",
      "enter second number: 9\n",
      "50 + 9 = 59\n",
      "50 - 9 = 41\n",
      "50 / 9 = 5.555555555555555\n",
      "50 // 9 = 59\n",
      "50 * 9 = 450\n",
      "50 ** 9 = 1953125000000000\n",
      "50 % 9 = 5\n"
     ]
    }
   ],
   "source": [
    "#program to show the use of arithmatic operators\n",
    "\n",
    "num1=int(input(\"enter first number: \"))\n",
    "num2=int(input(\"enter second number: \"))\n",
    "\n",
    "#Additing 2 numbers: \n",
    "\n",
    "print(num1,'+',num2,'=',num1+num2)\n",
    "\n",
    "#Substracting \n",
    "\n",
    "print(num1,'-',num2,'=',num1-num2)\n",
    "\n",
    "#division\n",
    "\n",
    "print(num1,'/',num2,'=',num1/num2)\n",
    "\n",
    "#remainder\n",
    "\n",
    "print(num1,'//',num2,'=',num1+num2)\n",
    "\n",
    "#multiply\n",
    "\n",
    "print(num1,'*',num2,'=',num1*num2)\n",
    "\n",
    "#power\n",
    "\n",
    "print(num1,'**',num2,'=',num1**num2)\n",
    "\n",
    "#%\n",
    "\n",
    "print(num1,'%',num2,'=',num1%num2)"
   ]
  },
  {
   "cell_type": "code",
   "execution_count": 2,
   "metadata": {},
   "outputs": [
    {
     "name": "stdout",
     "output_type": "stream",
     "text": [
      "== operator result is  False\n",
      "!= operator result is  True\n",
      ">= operator result is  False\n",
      "<= operator result is  True\n",
      "< operator result is  True\n",
      "> operator result is  False\n"
     ]
    }
   ],
   "source": [
    "# Relational Operators\n",
    "num1,num2=6,8\n",
    "\n",
    "# 1. '==' operators checks if the value if two operands are equal\n",
    "print(\"== operator result is \",num1==num2)\n",
    "\n",
    "#2. \"!=\" operator ,reads as not equal operator\n",
    "print(\"!= operator result is \",num1!=num2)\n",
    "\n",
    "#3. \">=\" operator\n",
    "print(\">= operator result is \",num1>=num2)\n",
    "\n",
    "#4. \"<=\" operator \n",
    "print(\"<= operator result is \",num1<=num2)\n",
    "\n",
    "#5. \"<\" operator \n",
    "print(\"< operator result is \",num1<num2)\n",
    "\n",
    "#6. \">\" operator \n",
    "print(\"> operator result is \",num1>num2)"
   ]
  },
  {
   "cell_type": "code",
   "execution_count": null,
   "metadata": {},
   "outputs": [],
   "source": []
  }
 ],
 "metadata": {
  "kernelspec": {
   "display_name": "Python 3 (ipykernel)",
   "language": "python",
   "name": "python3"
  },
  "language_info": {
   "codemirror_mode": {
    "name": "ipython",
    "version": 3
   },
   "file_extension": ".py",
   "mimetype": "text/x-python",
   "name": "python",
   "nbconvert_exporter": "python",
   "pygments_lexer": "ipython3",
   "version": "3.9.12"
  }
 },
 "nbformat": 4,
 "nbformat_minor": 4
}
